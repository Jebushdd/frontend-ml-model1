{
 "cells": [
  {
   "cell_type": "markdown",
   "metadata": {},
   "source": [
    "# Clasificación de clientes"
   ]
  },
  {
   "cell_type": "markdown",
   "metadata": {},
   "source": [
    "**Clasificar los clientes en 'Valioso' / 'No valioso'** \n",
    "\n",
    "- Dataset de https://app.mavenanalytics.io/datasets\n",
    "- https://maven-datasets.s3.amazonaws.com/Telecom+Customer+Churn/Telecom+Customer+Churn.zip\n",
    "\n",
    "Contexto:<br>\n",
    "El dataset contiene el estado actual de clientes al cierre del trimestre Mayo-Julio juntos con los detalles de CRM correspondientes a los servicios que ofrece la empresa. <br>\n",
    "El estado de un cliente se clasifica en *'Stayed' / 'Churned' / 'Joined'*. <br>\n",
    "**Es decir:**\n",
    "&emsp;```Sigue activo```\n",
    "&emsp;```Canceló su suscripción```\n",
    "&emsp;```Es un nuevo cliente```"
   ]
  },
  {
   "cell_type": "markdown",
   "metadata": {},
   "source": [
    "## 1. Preparación de los datos"
   ]
  },
  {
   "cell_type": "markdown",
   "metadata": {},
   "source": [
    "### 1.0 Esquema"
   ]
  },
  {
   "cell_type": "markdown",
   "metadata": {},
   "source": [
    "- Cargar dataset\n",
    "- Revisar variables -> detectar la variable que queremos predecir\n",
    "- Dar consistencia a las variables y los datos\n",
    "- Normalizar datos\n",
    "    - Controlar tipos de datos correspondiente a cada variable\n",
    "    - Corregir tipos de datos de las variables\n",
    "    - Manejar datos nulos\n",
    "    - Transformar variable objetivo en tipo numérico (1, 0)"
   ]
  },
  {
   "cell_type": "markdown",
   "metadata": {},
   "source": [
    "### 1.1 Cargar dataset"
   ]
  },
  {
   "cell_type": "code",
   "execution_count": 192,
   "metadata": {},
   "outputs": [],
   "source": [
    "import pandas as pd\n",
    "from pandas_profiling import ProfileReport\n",
    "import matplotlib.pyplot as plt\n",
    "import seaborn as sns\n",
    "import numpy as np"
   ]
  },
  {
   "cell_type": "code",
   "execution_count": 193,
   "metadata": {},
   "outputs": [],
   "source": [
    "customer_churn = 'telecom_customer_churn.csv'\n",
    "zipcode_pop = 'telecom_zipcode_population.csv'"
   ]
  },
  {
   "cell_type": "markdown",
   "metadata": {},
   "source": [
    "### 1.2 Revisar variables y detectar variable que queremos predecir"
   ]
  },
  {
   "cell_type": "code",
   "execution_count": 194,
   "metadata": {
    "scrolled": true
   },
   "outputs": [
    {
     "data": {
      "text/html": [
       "<div>\n",
       "<style scoped>\n",
       "    .dataframe tbody tr th:only-of-type {\n",
       "        vertical-align: middle;\n",
       "    }\n",
       "\n",
       "    .dataframe tbody tr th {\n",
       "        vertical-align: top;\n",
       "    }\n",
       "\n",
       "    .dataframe thead th {\n",
       "        text-align: right;\n",
       "    }\n",
       "</style>\n",
       "<table border=\"1\" class=\"dataframe\">\n",
       "  <thead>\n",
       "    <tr style=\"text-align: right;\">\n",
       "      <th></th>\n",
       "      <th>0</th>\n",
       "      <th>1</th>\n",
       "      <th>2</th>\n",
       "      <th>3</th>\n",
       "      <th>4</th>\n",
       "    </tr>\n",
       "  </thead>\n",
       "  <tbody>\n",
       "    <tr>\n",
       "      <th>Customer ID</th>\n",
       "      <td>0002-ORFBO</td>\n",
       "      <td>0003-MKNFE</td>\n",
       "      <td>0004-TLHLJ</td>\n",
       "      <td>0011-IGKFF</td>\n",
       "      <td>0013-EXCHZ</td>\n",
       "    </tr>\n",
       "    <tr>\n",
       "      <th>Gender</th>\n",
       "      <td>Female</td>\n",
       "      <td>Male</td>\n",
       "      <td>Male</td>\n",
       "      <td>Male</td>\n",
       "      <td>Female</td>\n",
       "    </tr>\n",
       "    <tr>\n",
       "      <th>Age</th>\n",
       "      <td>37</td>\n",
       "      <td>46</td>\n",
       "      <td>50</td>\n",
       "      <td>78</td>\n",
       "      <td>75</td>\n",
       "    </tr>\n",
       "    <tr>\n",
       "      <th>Married</th>\n",
       "      <td>Yes</td>\n",
       "      <td>No</td>\n",
       "      <td>No</td>\n",
       "      <td>Yes</td>\n",
       "      <td>Yes</td>\n",
       "    </tr>\n",
       "    <tr>\n",
       "      <th>Number of Dependents</th>\n",
       "      <td>0</td>\n",
       "      <td>0</td>\n",
       "      <td>0</td>\n",
       "      <td>0</td>\n",
       "      <td>0</td>\n",
       "    </tr>\n",
       "    <tr>\n",
       "      <th>City</th>\n",
       "      <td>Frazier Park</td>\n",
       "      <td>Glendale</td>\n",
       "      <td>Costa Mesa</td>\n",
       "      <td>Martinez</td>\n",
       "      <td>Camarillo</td>\n",
       "    </tr>\n",
       "    <tr>\n",
       "      <th>Zip Code</th>\n",
       "      <td>93225</td>\n",
       "      <td>91206</td>\n",
       "      <td>92627</td>\n",
       "      <td>94553</td>\n",
       "      <td>93010</td>\n",
       "    </tr>\n",
       "    <tr>\n",
       "      <th>Latitude</th>\n",
       "      <td>34.827662</td>\n",
       "      <td>34.162515</td>\n",
       "      <td>33.645672</td>\n",
       "      <td>38.014457</td>\n",
       "      <td>34.227846</td>\n",
       "    </tr>\n",
       "    <tr>\n",
       "      <th>Longitude</th>\n",
       "      <td>-118.999073</td>\n",
       "      <td>-118.203869</td>\n",
       "      <td>-117.922613</td>\n",
       "      <td>-122.115432</td>\n",
       "      <td>-119.079903</td>\n",
       "    </tr>\n",
       "    <tr>\n",
       "      <th>Number of Referrals</th>\n",
       "      <td>2</td>\n",
       "      <td>0</td>\n",
       "      <td>0</td>\n",
       "      <td>1</td>\n",
       "      <td>3</td>\n",
       "    </tr>\n",
       "    <tr>\n",
       "      <th>Tenure in Months</th>\n",
       "      <td>9</td>\n",
       "      <td>9</td>\n",
       "      <td>4</td>\n",
       "      <td>13</td>\n",
       "      <td>3</td>\n",
       "    </tr>\n",
       "    <tr>\n",
       "      <th>Offer</th>\n",
       "      <td>None</td>\n",
       "      <td>None</td>\n",
       "      <td>Offer E</td>\n",
       "      <td>Offer D</td>\n",
       "      <td>None</td>\n",
       "    </tr>\n",
       "    <tr>\n",
       "      <th>Phone Service</th>\n",
       "      <td>Yes</td>\n",
       "      <td>Yes</td>\n",
       "      <td>Yes</td>\n",
       "      <td>Yes</td>\n",
       "      <td>Yes</td>\n",
       "    </tr>\n",
       "    <tr>\n",
       "      <th>Avg Monthly Long Distance Charges</th>\n",
       "      <td>42.39</td>\n",
       "      <td>10.69</td>\n",
       "      <td>33.65</td>\n",
       "      <td>27.82</td>\n",
       "      <td>7.38</td>\n",
       "    </tr>\n",
       "    <tr>\n",
       "      <th>Multiple Lines</th>\n",
       "      <td>No</td>\n",
       "      <td>Yes</td>\n",
       "      <td>No</td>\n",
       "      <td>No</td>\n",
       "      <td>No</td>\n",
       "    </tr>\n",
       "    <tr>\n",
       "      <th>Internet Service</th>\n",
       "      <td>Yes</td>\n",
       "      <td>Yes</td>\n",
       "      <td>Yes</td>\n",
       "      <td>Yes</td>\n",
       "      <td>Yes</td>\n",
       "    </tr>\n",
       "    <tr>\n",
       "      <th>Internet Type</th>\n",
       "      <td>Cable</td>\n",
       "      <td>Cable</td>\n",
       "      <td>Fiber Optic</td>\n",
       "      <td>Fiber Optic</td>\n",
       "      <td>Fiber Optic</td>\n",
       "    </tr>\n",
       "    <tr>\n",
       "      <th>Avg Monthly GB Download</th>\n",
       "      <td>16.0</td>\n",
       "      <td>10.0</td>\n",
       "      <td>30.0</td>\n",
       "      <td>4.0</td>\n",
       "      <td>11.0</td>\n",
       "    </tr>\n",
       "    <tr>\n",
       "      <th>Online Security</th>\n",
       "      <td>No</td>\n",
       "      <td>No</td>\n",
       "      <td>No</td>\n",
       "      <td>No</td>\n",
       "      <td>No</td>\n",
       "    </tr>\n",
       "    <tr>\n",
       "      <th>Online Backup</th>\n",
       "      <td>Yes</td>\n",
       "      <td>No</td>\n",
       "      <td>No</td>\n",
       "      <td>Yes</td>\n",
       "      <td>No</td>\n",
       "    </tr>\n",
       "    <tr>\n",
       "      <th>Device Protection Plan</th>\n",
       "      <td>No</td>\n",
       "      <td>No</td>\n",
       "      <td>Yes</td>\n",
       "      <td>Yes</td>\n",
       "      <td>No</td>\n",
       "    </tr>\n",
       "    <tr>\n",
       "      <th>Premium Tech Support</th>\n",
       "      <td>Yes</td>\n",
       "      <td>No</td>\n",
       "      <td>No</td>\n",
       "      <td>No</td>\n",
       "      <td>Yes</td>\n",
       "    </tr>\n",
       "    <tr>\n",
       "      <th>Streaming TV</th>\n",
       "      <td>Yes</td>\n",
       "      <td>No</td>\n",
       "      <td>No</td>\n",
       "      <td>Yes</td>\n",
       "      <td>Yes</td>\n",
       "    </tr>\n",
       "    <tr>\n",
       "      <th>Streaming Movies</th>\n",
       "      <td>No</td>\n",
       "      <td>Yes</td>\n",
       "      <td>No</td>\n",
       "      <td>Yes</td>\n",
       "      <td>No</td>\n",
       "    </tr>\n",
       "    <tr>\n",
       "      <th>Streaming Music</th>\n",
       "      <td>No</td>\n",
       "      <td>Yes</td>\n",
       "      <td>No</td>\n",
       "      <td>No</td>\n",
       "      <td>No</td>\n",
       "    </tr>\n",
       "    <tr>\n",
       "      <th>Unlimited Data</th>\n",
       "      <td>Yes</td>\n",
       "      <td>No</td>\n",
       "      <td>Yes</td>\n",
       "      <td>Yes</td>\n",
       "      <td>Yes</td>\n",
       "    </tr>\n",
       "    <tr>\n",
       "      <th>Contract</th>\n",
       "      <td>One Year</td>\n",
       "      <td>Month-to-Month</td>\n",
       "      <td>Month-to-Month</td>\n",
       "      <td>Month-to-Month</td>\n",
       "      <td>Month-to-Month</td>\n",
       "    </tr>\n",
       "    <tr>\n",
       "      <th>Paperless Billing</th>\n",
       "      <td>Yes</td>\n",
       "      <td>No</td>\n",
       "      <td>Yes</td>\n",
       "      <td>Yes</td>\n",
       "      <td>Yes</td>\n",
       "    </tr>\n",
       "    <tr>\n",
       "      <th>Payment Method</th>\n",
       "      <td>Credit Card</td>\n",
       "      <td>Credit Card</td>\n",
       "      <td>Bank Withdrawal</td>\n",
       "      <td>Bank Withdrawal</td>\n",
       "      <td>Credit Card</td>\n",
       "    </tr>\n",
       "    <tr>\n",
       "      <th>Monthly Charge</th>\n",
       "      <td>65.6</td>\n",
       "      <td>-4.0</td>\n",
       "      <td>73.9</td>\n",
       "      <td>98.0</td>\n",
       "      <td>83.9</td>\n",
       "    </tr>\n",
       "    <tr>\n",
       "      <th>Total Charges</th>\n",
       "      <td>593.3</td>\n",
       "      <td>542.4</td>\n",
       "      <td>280.85</td>\n",
       "      <td>1237.85</td>\n",
       "      <td>267.4</td>\n",
       "    </tr>\n",
       "    <tr>\n",
       "      <th>Total Refunds</th>\n",
       "      <td>0.0</td>\n",
       "      <td>38.33</td>\n",
       "      <td>0.0</td>\n",
       "      <td>0.0</td>\n",
       "      <td>0.0</td>\n",
       "    </tr>\n",
       "    <tr>\n",
       "      <th>Total Extra Data Charges</th>\n",
       "      <td>0</td>\n",
       "      <td>10</td>\n",
       "      <td>0</td>\n",
       "      <td>0</td>\n",
       "      <td>0</td>\n",
       "    </tr>\n",
       "    <tr>\n",
       "      <th>Total Long Distance Charges</th>\n",
       "      <td>381.51</td>\n",
       "      <td>96.21</td>\n",
       "      <td>134.6</td>\n",
       "      <td>361.66</td>\n",
       "      <td>22.14</td>\n",
       "    </tr>\n",
       "    <tr>\n",
       "      <th>Total Revenue</th>\n",
       "      <td>974.81</td>\n",
       "      <td>610.28</td>\n",
       "      <td>415.45</td>\n",
       "      <td>1599.51</td>\n",
       "      <td>289.54</td>\n",
       "    </tr>\n",
       "    <tr>\n",
       "      <th>Customer Status</th>\n",
       "      <td>Stayed</td>\n",
       "      <td>Stayed</td>\n",
       "      <td>Churned</td>\n",
       "      <td>Churned</td>\n",
       "      <td>Churned</td>\n",
       "    </tr>\n",
       "    <tr>\n",
       "      <th>Churn Category</th>\n",
       "      <td>NaN</td>\n",
       "      <td>NaN</td>\n",
       "      <td>Competitor</td>\n",
       "      <td>Dissatisfaction</td>\n",
       "      <td>Dissatisfaction</td>\n",
       "    </tr>\n",
       "    <tr>\n",
       "      <th>Churn Reason</th>\n",
       "      <td>NaN</td>\n",
       "      <td>NaN</td>\n",
       "      <td>Competitor had better devices</td>\n",
       "      <td>Product dissatisfaction</td>\n",
       "      <td>Network reliability</td>\n",
       "    </tr>\n",
       "  </tbody>\n",
       "</table>\n",
       "</div>"
      ],
      "text/plain": [
       "                                              0               1  \\\n",
       "Customer ID                          0002-ORFBO      0003-MKNFE   \n",
       "Gender                                   Female            Male   \n",
       "Age                                          37              46   \n",
       "Married                                     Yes              No   \n",
       "Number of Dependents                          0               0   \n",
       "City                               Frazier Park        Glendale   \n",
       "Zip Code                                  93225           91206   \n",
       "Latitude                              34.827662       34.162515   \n",
       "Longitude                           -118.999073     -118.203869   \n",
       "Number of Referrals                           2               0   \n",
       "Tenure in Months                              9               9   \n",
       "Offer                                      None            None   \n",
       "Phone Service                               Yes             Yes   \n",
       "Avg Monthly Long Distance Charges         42.39           10.69   \n",
       "Multiple Lines                               No             Yes   \n",
       "Internet Service                            Yes             Yes   \n",
       "Internet Type                             Cable           Cable   \n",
       "Avg Monthly GB Download                    16.0            10.0   \n",
       "Online Security                              No              No   \n",
       "Online Backup                               Yes              No   \n",
       "Device Protection Plan                       No              No   \n",
       "Premium Tech Support                        Yes              No   \n",
       "Streaming TV                                Yes              No   \n",
       "Streaming Movies                             No             Yes   \n",
       "Streaming Music                              No             Yes   \n",
       "Unlimited Data                              Yes              No   \n",
       "Contract                               One Year  Month-to-Month   \n",
       "Paperless Billing                           Yes              No   \n",
       "Payment Method                      Credit Card     Credit Card   \n",
       "Monthly Charge                             65.6            -4.0   \n",
       "Total Charges                             593.3           542.4   \n",
       "Total Refunds                               0.0           38.33   \n",
       "Total Extra Data Charges                      0              10   \n",
       "Total Long Distance Charges              381.51           96.21   \n",
       "Total Revenue                            974.81          610.28   \n",
       "Customer Status                          Stayed          Stayed   \n",
       "Churn Category                              NaN             NaN   \n",
       "Churn Reason                                NaN             NaN   \n",
       "\n",
       "                                                               2  \\\n",
       "Customer ID                                           0004-TLHLJ   \n",
       "Gender                                                      Male   \n",
       "Age                                                           50   \n",
       "Married                                                       No   \n",
       "Number of Dependents                                           0   \n",
       "City                                                  Costa Mesa   \n",
       "Zip Code                                                   92627   \n",
       "Latitude                                               33.645672   \n",
       "Longitude                                            -117.922613   \n",
       "Number of Referrals                                            0   \n",
       "Tenure in Months                                               4   \n",
       "Offer                                                    Offer E   \n",
       "Phone Service                                                Yes   \n",
       "Avg Monthly Long Distance Charges                          33.65   \n",
       "Multiple Lines                                                No   \n",
       "Internet Service                                             Yes   \n",
       "Internet Type                                        Fiber Optic   \n",
       "Avg Monthly GB Download                                     30.0   \n",
       "Online Security                                               No   \n",
       "Online Backup                                                 No   \n",
       "Device Protection Plan                                       Yes   \n",
       "Premium Tech Support                                          No   \n",
       "Streaming TV                                                  No   \n",
       "Streaming Movies                                              No   \n",
       "Streaming Music                                               No   \n",
       "Unlimited Data                                               Yes   \n",
       "Contract                                          Month-to-Month   \n",
       "Paperless Billing                                            Yes   \n",
       "Payment Method                                   Bank Withdrawal   \n",
       "Monthly Charge                                              73.9   \n",
       "Total Charges                                             280.85   \n",
       "Total Refunds                                                0.0   \n",
       "Total Extra Data Charges                                       0   \n",
       "Total Long Distance Charges                                134.6   \n",
       "Total Revenue                                             415.45   \n",
       "Customer Status                                          Churned   \n",
       "Churn Category                                        Competitor   \n",
       "Churn Reason                       Competitor had better devices   \n",
       "\n",
       "                                                         3  \\\n",
       "Customer ID                                     0011-IGKFF   \n",
       "Gender                                                Male   \n",
       "Age                                                     78   \n",
       "Married                                                Yes   \n",
       "Number of Dependents                                     0   \n",
       "City                                              Martinez   \n",
       "Zip Code                                             94553   \n",
       "Latitude                                         38.014457   \n",
       "Longitude                                      -122.115432   \n",
       "Number of Referrals                                      1   \n",
       "Tenure in Months                                        13   \n",
       "Offer                                              Offer D   \n",
       "Phone Service                                          Yes   \n",
       "Avg Monthly Long Distance Charges                    27.82   \n",
       "Multiple Lines                                          No   \n",
       "Internet Service                                       Yes   \n",
       "Internet Type                                  Fiber Optic   \n",
       "Avg Monthly GB Download                                4.0   \n",
       "Online Security                                         No   \n",
       "Online Backup                                          Yes   \n",
       "Device Protection Plan                                 Yes   \n",
       "Premium Tech Support                                    No   \n",
       "Streaming TV                                           Yes   \n",
       "Streaming Movies                                       Yes   \n",
       "Streaming Music                                         No   \n",
       "Unlimited Data                                         Yes   \n",
       "Contract                                    Month-to-Month   \n",
       "Paperless Billing                                      Yes   \n",
       "Payment Method                             Bank Withdrawal   \n",
       "Monthly Charge                                        98.0   \n",
       "Total Charges                                      1237.85   \n",
       "Total Refunds                                          0.0   \n",
       "Total Extra Data Charges                                 0   \n",
       "Total Long Distance Charges                         361.66   \n",
       "Total Revenue                                      1599.51   \n",
       "Customer Status                                    Churned   \n",
       "Churn Category                             Dissatisfaction   \n",
       "Churn Reason                       Product dissatisfaction   \n",
       "\n",
       "                                                     4  \n",
       "Customer ID                                 0013-EXCHZ  \n",
       "Gender                                          Female  \n",
       "Age                                                 75  \n",
       "Married                                            Yes  \n",
       "Number of Dependents                                 0  \n",
       "City                                         Camarillo  \n",
       "Zip Code                                         93010  \n",
       "Latitude                                     34.227846  \n",
       "Longitude                                  -119.079903  \n",
       "Number of Referrals                                  3  \n",
       "Tenure in Months                                     3  \n",
       "Offer                                             None  \n",
       "Phone Service                                      Yes  \n",
       "Avg Monthly Long Distance Charges                 7.38  \n",
       "Multiple Lines                                      No  \n",
       "Internet Service                                   Yes  \n",
       "Internet Type                              Fiber Optic  \n",
       "Avg Monthly GB Download                           11.0  \n",
       "Online Security                                     No  \n",
       "Online Backup                                       No  \n",
       "Device Protection Plan                              No  \n",
       "Premium Tech Support                               Yes  \n",
       "Streaming TV                                       Yes  \n",
       "Streaming Movies                                    No  \n",
       "Streaming Music                                     No  \n",
       "Unlimited Data                                     Yes  \n",
       "Contract                                Month-to-Month  \n",
       "Paperless Billing                                  Yes  \n",
       "Payment Method                             Credit Card  \n",
       "Monthly Charge                                    83.9  \n",
       "Total Charges                                    267.4  \n",
       "Total Refunds                                      0.0  \n",
       "Total Extra Data Charges                             0  \n",
       "Total Long Distance Charges                      22.14  \n",
       "Total Revenue                                   289.54  \n",
       "Customer Status                                Churned  \n",
       "Churn Category                         Dissatisfaction  \n",
       "Churn Reason                       Network reliability  "
      ]
     },
     "execution_count": 194,
     "metadata": {},
     "output_type": "execute_result"
    }
   ],
   "source": [
    "df_cust = pd.read_csv(customer_churn, encoding='utf-8')\n",
    "df_cust.head().T"
   ]
  },
  {
   "cell_type": "markdown",
   "metadata": {},
   "source": [
    "En este caso no tenemos una variable explícita para predecir, sino que queremos crear una variable que nos dé una probabilidad de riesgo de deserción. <br>\n",
    "Para eso vamos a evaluar los casos en los que un cliente cancela su suscripción y los casos en los que mantiene su suscripción. Vamos a separar los casos en los que se une un cliente para poner a prueba nuestro modelo de predicción."
   ]
  },
  {
   "cell_type": "markdown",
   "metadata": {},
   "source": [
    "### 1.3 Dar consistencia a las variables y los datos"
   ]
  },
  {
   "cell_type": "markdown",
   "metadata": {},
   "source": [
    "Vamos a modificar los nombres de las variables para que estén en minúscula y reemplazar espacios por ```_```"
   ]
  },
  {
   "cell_type": "code",
   "execution_count": 195,
   "metadata": {},
   "outputs": [],
   "source": [
    "df_cust.columns = df_cust.columns.str.lower().str.replace(' ', '_')\n",
    "categorical_columns = list(df_cust.dtypes[df_cust.dtypes=='object'].index)\n",
    "\n",
    "for c in categorical_columns:\n",
    "    df_cust[c] = df_cust[c].str.lower().str.replace(' ', '_')"
   ]
  },
  {
   "cell_type": "markdown",
   "metadata": {},
   "source": [
    "### 1.4 Normalizar datos"
   ]
  },
  {
   "cell_type": "markdown",
   "metadata": {},
   "source": [
    "#### 1.4.1 Controlar tipos de datos correspondientes a cada variable"
   ]
  },
  {
   "cell_type": "code",
   "execution_count": 196,
   "metadata": {
    "scrolled": true
   },
   "outputs": [
    {
     "name": "stdout",
     "output_type": "stream",
     "text": [
      "<class 'pandas.core.frame.DataFrame'>\n",
      "RangeIndex: 7043 entries, 0 to 7042\n",
      "Data columns (total 38 columns):\n",
      " #   Column                             Non-Null Count  Dtype  \n",
      "---  ------                             --------------  -----  \n",
      " 0   customer_id                        7043 non-null   object \n",
      " 1   gender                             7043 non-null   object \n",
      " 2   age                                7043 non-null   int64  \n",
      " 3   married                            7043 non-null   object \n",
      " 4   number_of_dependents               7043 non-null   int64  \n",
      " 5   city                               7043 non-null   object \n",
      " 6   zip_code                           7043 non-null   int64  \n",
      " 7   latitude                           7043 non-null   float64\n",
      " 8   longitude                          7043 non-null   float64\n",
      " 9   number_of_referrals                7043 non-null   int64  \n",
      " 10  tenure_in_months                   7043 non-null   int64  \n",
      " 11  offer                              7043 non-null   object \n",
      " 12  phone_service                      7043 non-null   object \n",
      " 13  avg_monthly_long_distance_charges  6361 non-null   float64\n",
      " 14  multiple_lines                     6361 non-null   object \n",
      " 15  internet_service                   7043 non-null   object \n",
      " 16  internet_type                      5517 non-null   object \n",
      " 17  avg_monthly_gb_download            5517 non-null   float64\n",
      " 18  online_security                    5517 non-null   object \n",
      " 19  online_backup                      5517 non-null   object \n",
      " 20  device_protection_plan             5517 non-null   object \n",
      " 21  premium_tech_support               5517 non-null   object \n",
      " 22  streaming_tv                       5517 non-null   object \n",
      " 23  streaming_movies                   5517 non-null   object \n",
      " 24  streaming_music                    5517 non-null   object \n",
      " 25  unlimited_data                     5517 non-null   object \n",
      " 26  contract                           7043 non-null   object \n",
      " 27  paperless_billing                  7043 non-null   object \n",
      " 28  payment_method                     7043 non-null   object \n",
      " 29  monthly_charge                     7043 non-null   float64\n",
      " 30  total_charges                      7043 non-null   float64\n",
      " 31  total_refunds                      7043 non-null   float64\n",
      " 32  total_extra_data_charges           7043 non-null   int64  \n",
      " 33  total_long_distance_charges        7043 non-null   float64\n",
      " 34  total_revenue                      7043 non-null   float64\n",
      " 35  customer_status                    7043 non-null   object \n",
      " 36  churn_category                     1869 non-null   object \n",
      " 37  churn_reason                       1869 non-null   object \n",
      "dtypes: float64(9), int64(6), object(23)\n",
      "memory usage: 2.0+ MB\n"
     ]
    }
   ],
   "source": [
    "df_cust.info()\n",
    "#df_cust[df_cust['customer_status'] == 'joined'].info()\n",
    "#df_cust[df_cust['customer_status'] == 'stayed'].info()"
   ]
  },
  {
   "cell_type": "markdown",
   "metadata": {},
   "source": [
    "#### 1.4.2 Corregir tipos de datos de las variables"
   ]
  },
  {
   "cell_type": "markdown",
   "metadata": {},
   "source": [
    "No es necesario corregir tipos de datos de las variables"
   ]
  },
  {
   "cell_type": "markdown",
   "metadata": {},
   "source": [
    "#### 1.4.3 Manejar datos nulos"
   ]
  },
  {
   "cell_type": "markdown",
   "metadata": {},
   "source": [
    "Vamos a identificar la cantidad de datos nulos en el dataset y definir qué vamos a hacer con ellos:\n",
    "- Corregir o eliminar los registros con valores numéricos ordinarios nulos\n",
    "- Agregar texto genérico o eliminar valores de texto nulos"
   ]
  },
  {
   "cell_type": "code",
   "execution_count": 197,
   "metadata": {
    "scrolled": true
   },
   "outputs": [
    {
     "data": {
      "text/plain": [
       "customer_id                             0\n",
       "gender                                  0\n",
       "age                                     0\n",
       "married                                 0\n",
       "number_of_dependents                    0\n",
       "city                                    0\n",
       "zip_code                                0\n",
       "latitude                                0\n",
       "longitude                               0\n",
       "number_of_referrals                     0\n",
       "tenure_in_months                        0\n",
       "offer                                   0\n",
       "phone_service                           0\n",
       "avg_monthly_long_distance_charges     682\n",
       "multiple_lines                        682\n",
       "internet_service                        0\n",
       "internet_type                        1526\n",
       "avg_monthly_gb_download              1526\n",
       "online_security                      1526\n",
       "online_backup                        1526\n",
       "device_protection_plan               1526\n",
       "premium_tech_support                 1526\n",
       "streaming_tv                         1526\n",
       "streaming_movies                     1526\n",
       "streaming_music                      1526\n",
       "unlimited_data                       1526\n",
       "contract                                0\n",
       "paperless_billing                       0\n",
       "payment_method                          0\n",
       "monthly_charge                          0\n",
       "total_charges                           0\n",
       "total_refunds                           0\n",
       "total_extra_data_charges                0\n",
       "total_long_distance_charges             0\n",
       "total_revenue                           0\n",
       "customer_status                         0\n",
       "churn_category                       5174\n",
       "churn_reason                         5174\n",
       "dtype: int64"
      ]
     },
     "execution_count": 197,
     "metadata": {},
     "output_type": "execute_result"
    }
   ],
   "source": [
    "df_cust.isnull().sum()"
   ]
  },
  {
   "cell_type": "code",
   "execution_count": 198,
   "metadata": {
    "scrolled": false
   },
   "outputs": [
    {
     "data": {
      "text/plain": [
       "array(['no', 'yes'], dtype=object)"
      ]
     },
     "execution_count": 198,
     "metadata": {},
     "output_type": "execute_result"
    }
   ],
   "source": [
    "df_cust[df_cust['phone_service'] == 'yes']['multiple_lines'].unique()"
   ]
  },
  {
   "cell_type": "code",
   "execution_count": 199,
   "metadata": {},
   "outputs": [],
   "source": [
    "df_cust['avg_monthly_long_distance_charges'].fillna(value=0, inplace=True)"
   ]
  },
  {
   "cell_type": "code",
   "execution_count": 200,
   "metadata": {},
   "outputs": [
    {
     "data": {
      "text/plain": [
       "0"
      ]
     },
     "execution_count": 200,
     "metadata": {},
     "output_type": "execute_result"
    }
   ],
   "source": [
    "df_cust['avg_monthly_long_distance_charges'].isnull().sum()"
   ]
  },
  {
   "cell_type": "code",
   "execution_count": 201,
   "metadata": {},
   "outputs": [],
   "source": [
    "df_cust['multiple_lines'].fillna(value='no', inplace=True)"
   ]
  },
  {
   "cell_type": "code",
   "execution_count": 202,
   "metadata": {
    "scrolled": true
   },
   "outputs": [
    {
     "data": {
      "text/plain": [
       "0"
      ]
     },
     "execution_count": 202,
     "metadata": {},
     "output_type": "execute_result"
    }
   ],
   "source": [
    "df_cust['multiple_lines'].isnull().sum()"
   ]
  },
  {
   "cell_type": "code",
   "execution_count": 203,
   "metadata": {
    "scrolled": true
   },
   "outputs": [
    {
     "data": {
      "text/plain": [
       "array(['cable', 'fiber_optic', 'dsl'], dtype=object)"
      ]
     },
     "execution_count": 203,
     "metadata": {},
     "output_type": "execute_result"
    }
   ],
   "source": [
    "df_cust[df_cust['internet_service'] == 'yes']['internet_type'].unique()\n",
    "\n",
    "# --> Cambiar por 'no'"
   ]
  },
  {
   "cell_type": "code",
   "execution_count": 204,
   "metadata": {},
   "outputs": [
    {
     "data": {
      "text/plain": [
       "array([16., 10., 30.,  4., 11., 73., 14.,  7., 21., 59., 19., 12., 20.,\n",
       "       22., 17.,  9., 52., 57., 51., 41., 23., 27.,  2., 69., 53., 15.,\n",
       "       29., 85., 28., 18., 48., 25., 26.,  8.,  6.,  5., 13., 75., 82.,\n",
       "       24., 76., 47., 71., 58., 42.,  3., 56., 46., 39.])"
      ]
     },
     "execution_count": 204,
     "metadata": {},
     "output_type": "execute_result"
    }
   ],
   "source": [
    "df_cust[df_cust['internet_service'] == 'yes']['avg_monthly_gb_download'].unique()\n",
    "\n",
    "# --> Cambiar por 0"
   ]
  },
  {
   "cell_type": "code",
   "execution_count": 205,
   "metadata": {
    "scrolled": false
   },
   "outputs": [
    {
     "data": {
      "text/plain": [
       "array(['no', 'yes'], dtype=object)"
      ]
     },
     "execution_count": 205,
     "metadata": {},
     "output_type": "execute_result"
    }
   ],
   "source": [
    "df_cust[df_cust['internet_service'] == 'yes']['online_security'].unique()\n",
    "\n",
    "# --> Cambiar por 'no'"
   ]
  },
  {
   "cell_type": "code",
   "execution_count": 206,
   "metadata": {},
   "outputs": [
    {
     "data": {
      "text/plain": [
       "array(['yes', 'no'], dtype=object)"
      ]
     },
     "execution_count": 206,
     "metadata": {},
     "output_type": "execute_result"
    }
   ],
   "source": [
    "df_cust[df_cust['internet_service'] == 'yes']['online_backup'].unique()\n",
    "\n",
    "# --> Cambiar por 'no'"
   ]
  },
  {
   "cell_type": "code",
   "execution_count": 207,
   "metadata": {},
   "outputs": [
    {
     "data": {
      "text/plain": [
       "array(['no', 'yes'], dtype=object)"
      ]
     },
     "execution_count": 207,
     "metadata": {},
     "output_type": "execute_result"
    }
   ],
   "source": [
    "df_cust[df_cust['internet_service'] == 'yes']['device_protection_plan'].unique()\n",
    "\n",
    "# --> Cambiar por 'no'"
   ]
  },
  {
   "cell_type": "code",
   "execution_count": 208,
   "metadata": {},
   "outputs": [
    {
     "data": {
      "text/plain": [
       "array(['yes', 'no'], dtype=object)"
      ]
     },
     "execution_count": 208,
     "metadata": {},
     "output_type": "execute_result"
    }
   ],
   "source": [
    "df_cust[df_cust['internet_service'] == 'yes']['premium_tech_support'].unique()\n",
    "# --> Cambiar por 'no'"
   ]
  },
  {
   "cell_type": "code",
   "execution_count": 209,
   "metadata": {},
   "outputs": [
    {
     "data": {
      "text/plain": [
       "array(['yes', 'no'], dtype=object)"
      ]
     },
     "execution_count": 209,
     "metadata": {},
     "output_type": "execute_result"
    }
   ],
   "source": [
    "df_cust[df_cust['internet_service'] == 'yes']['streaming_tv'].unique()\n",
    "# --> Cambiar por 'no'"
   ]
  },
  {
   "cell_type": "code",
   "execution_count": 210,
   "metadata": {},
   "outputs": [
    {
     "data": {
      "text/plain": [
       "array(['no', 'yes'], dtype=object)"
      ]
     },
     "execution_count": 210,
     "metadata": {},
     "output_type": "execute_result"
    }
   ],
   "source": [
    "df_cust[df_cust['internet_service'] == 'yes']['streaming_movies'].unique()\n",
    "# --> Cambiar por 'no'"
   ]
  },
  {
   "cell_type": "code",
   "execution_count": 211,
   "metadata": {},
   "outputs": [
    {
     "data": {
      "text/plain": [
       "array(['no', 'yes'], dtype=object)"
      ]
     },
     "execution_count": 211,
     "metadata": {},
     "output_type": "execute_result"
    }
   ],
   "source": [
    "df_cust[df_cust['internet_service'] == 'yes']['streaming_music'].unique()\n",
    "# --> Cambiar por 'no'"
   ]
  },
  {
   "cell_type": "code",
   "execution_count": 212,
   "metadata": {},
   "outputs": [
    {
     "data": {
      "text/plain": [
       "array(['yes', 'no'], dtype=object)"
      ]
     },
     "execution_count": 212,
     "metadata": {},
     "output_type": "execute_result"
    }
   ],
   "source": [
    "df_cust[df_cust['internet_service'] == 'yes']['unlimited_data'].unique()\n",
    "# --> Cambiar por 'no'"
   ]
  },
  {
   "cell_type": "code",
   "execution_count": 213,
   "metadata": {},
   "outputs": [],
   "source": [
    "null2no = ['internet_type', 'online_security', 'online_backup', 'device_protection_plan',\n",
    "           'premium_tech_support', 'streaming_tv', 'streaming_movies', 'streaming_music', 'unlimited_data']"
   ]
  },
  {
   "cell_type": "code",
   "execution_count": 214,
   "metadata": {},
   "outputs": [],
   "source": [
    "df_cust[null2no] = df_cust[null2no].fillna(value='no')"
   ]
  },
  {
   "cell_type": "code",
   "execution_count": 215,
   "metadata": {},
   "outputs": [],
   "source": [
    "df_cust['avg_monthly_gb_download'].fillna(value=0, inplace=True)"
   ]
  },
  {
   "cell_type": "code",
   "execution_count": 216,
   "metadata": {
    "scrolled": true
   },
   "outputs": [],
   "source": [
    "df_cust[['churn_category','churn_reason']] = df_cust[['churn_category','churn_reason']].fillna(value='no_churn')"
   ]
  },
  {
   "cell_type": "code",
   "execution_count": 217,
   "metadata": {
    "scrolled": true
   },
   "outputs": [
    {
     "data": {
      "text/plain": [
       "customer_id                          0\n",
       "gender                               0\n",
       "age                                  0\n",
       "married                              0\n",
       "number_of_dependents                 0\n",
       "city                                 0\n",
       "zip_code                             0\n",
       "latitude                             0\n",
       "longitude                            0\n",
       "number_of_referrals                  0\n",
       "tenure_in_months                     0\n",
       "offer                                0\n",
       "phone_service                        0\n",
       "avg_monthly_long_distance_charges    0\n",
       "multiple_lines                       0\n",
       "internet_service                     0\n",
       "internet_type                        0\n",
       "avg_monthly_gb_download              0\n",
       "online_security                      0\n",
       "online_backup                        0\n",
       "device_protection_plan               0\n",
       "premium_tech_support                 0\n",
       "streaming_tv                         0\n",
       "streaming_movies                     0\n",
       "streaming_music                      0\n",
       "unlimited_data                       0\n",
       "contract                             0\n",
       "paperless_billing                    0\n",
       "payment_method                       0\n",
       "monthly_charge                       0\n",
       "total_charges                        0\n",
       "total_refunds                        0\n",
       "total_extra_data_charges             0\n",
       "total_long_distance_charges          0\n",
       "total_revenue                        0\n",
       "customer_status                      0\n",
       "churn_category                       0\n",
       "churn_reason                         0\n",
       "dtype: int64"
      ]
     },
     "execution_count": 217,
     "metadata": {},
     "output_type": "execute_result"
    }
   ],
   "source": [
    "df_cust.isnull().sum()"
   ]
  },
  {
   "cell_type": "markdown",
   "metadata": {},
   "source": [
    "#### 1.4.4 Transformar variable objetivo en tipo numérico"
   ]
  },
  {
   "cell_type": "markdown",
   "metadata": {},
   "source": [
    "Aquí primero vamos a separar el dataset entre usuarios nuevos y usuarios que ya estaban suscriptos desde antes del trimestre analizado. <br>\n",
    "Luego vamos a transformar en 1 a los clientes que mantienen su suscripción y en 0 a los clientes que cancelaron su suscripción"
   ]
  },
  {
   "cell_type": "code",
   "execution_count": 218,
   "metadata": {},
   "outputs": [],
   "source": [
    "df = df_cust[df_cust['customer_status'] != 'joined'].copy()"
   ]
  },
  {
   "cell_type": "code",
   "execution_count": 219,
   "metadata": {},
   "outputs": [],
   "source": [
    "df_joined = df_cust[df_cust['customer_status'] == 'joined'].copy()"
   ]
  },
  {
   "cell_type": "code",
   "execution_count": 220,
   "metadata": {},
   "outputs": [
    {
     "data": {
      "text/plain": [
       "0    1\n",
       "1    1\n",
       "2    0\n",
       "3    0\n",
       "4    0\n",
       "Name: customer_status, dtype: int32"
      ]
     },
     "execution_count": 220,
     "metadata": {},
     "output_type": "execute_result"
    }
   ],
   "source": [
    "(df['customer_status'] == 'stayed').astype(int).head()"
   ]
  },
  {
   "cell_type": "code",
   "execution_count": 221,
   "metadata": {},
   "outputs": [],
   "source": [
    "df['customer_status'] = (df['customer_status'] == 'stayed').astype(int)"
   ]
  },
  {
   "cell_type": "markdown",
   "metadata": {},
   "source": [
    "## 2. Creando el esquema de validación"
   ]
  },
  {
   "cell_type": "markdown",
   "metadata": {},
   "source": [
    "Dividir el dataset de trabajo en partes de entrenamiento, validación y testeo"
   ]
  },
  {
   "cell_type": "code",
   "execution_count": 222,
   "metadata": {},
   "outputs": [],
   "source": [
    "from sklearn.model_selection import train_test_split"
   ]
  },
  {
   "cell_type": "code",
   "execution_count": 223,
   "metadata": {},
   "outputs": [],
   "source": [
    "df_ft, df_test = train_test_split(df, test_size=0.2, random_state=1)"
   ]
  },
  {
   "cell_type": "code",
   "execution_count": 224,
   "metadata": {},
   "outputs": [],
   "source": [
    "df_train, df_val = train_test_split(df_ft, test_size=0.25, random_state=1)"
   ]
  },
  {
   "cell_type": "code",
   "execution_count": 225,
   "metadata": {},
   "outputs": [
    {
     "data": {
      "text/plain": [
       "(6589, 6589)"
      ]
     },
     "execution_count": 225,
     "metadata": {},
     "output_type": "execute_result"
    }
   ],
   "source": [
    "(len(df_train) + len(df_val) + len(df_test)), len(df)"
   ]
  },
  {
   "cell_type": "code",
   "execution_count": 226,
   "metadata": {},
   "outputs": [],
   "source": [
    "df_train = df_train.reset_index(drop=True)\n",
    "df_val = df_val.reset_index(drop=True)\n",
    "df_test = df_test.reset_index(drop=True)"
   ]
  },
  {
   "cell_type": "code",
   "execution_count": 227,
   "metadata": {},
   "outputs": [],
   "source": [
    "y_train = df_train['customer_status'].values\n",
    "y_val = df_val['customer_status'].values\n",
    "y_test = df_test['customer_status'].values"
   ]
  },
  {
   "cell_type": "code",
   "execution_count": 228,
   "metadata": {},
   "outputs": [],
   "source": [
    "del df_train['customer_status']\n",
    "del df_val['customer_status']\n",
    "del df_test['customer_status']"
   ]
  },
  {
   "cell_type": "code",
   "execution_count": 229,
   "metadata": {},
   "outputs": [
    {
     "data": {
      "text/plain": [
       "(37, 37, 37)"
      ]
     },
     "execution_count": 229,
     "metadata": {},
     "output_type": "execute_result"
    }
   ],
   "source": [
    "len(df_train.columns), len(df_val.columns), len(df_test.columns)"
   ]
  },
  {
   "cell_type": "markdown",
   "metadata": {},
   "source": [
    "## 3. Análisis Exploratorio de los datos"
   ]
  },
  {
   "cell_type": "markdown",
   "metadata": {},
   "source": [
    "### 3.1 Variable objetivo, variables categóricas y variables numéricas"
   ]
  },
  {
   "cell_type": "code",
   "execution_count": 230,
   "metadata": {},
   "outputs": [],
   "source": [
    "df_ft = df_ft.reset_index(drop=True)"
   ]
  },
  {
   "cell_type": "markdown",
   "metadata": {},
   "source": [
    "Referencias customer_status: <br>\n",
    "- 0 = Canceló<br>\n",
    "- 1 = Se queda"
   ]
  },
  {
   "cell_type": "code",
   "execution_count": 231,
   "metadata": {},
   "outputs": [
    {
     "data": {
      "text/plain": [
       "1    0.714855\n",
       "0    0.285145\n",
       "Name: customer_status, dtype: float64"
      ]
     },
     "execution_count": 231,
     "metadata": {},
     "output_type": "execute_result"
    }
   ],
   "source": [
    "df_ft['customer_status'].value_counts(normalize=True)"
   ]
  },
  {
   "cell_type": "code",
   "execution_count": 232,
   "metadata": {},
   "outputs": [
    {
     "data": {
      "text/plain": [
       "0.7148548662492885"
      ]
     },
     "execution_count": 232,
     "metadata": {},
     "output_type": "execute_result"
    }
   ],
   "source": [
    "lealtad_gral = df_ft['customer_status'].mean()\n",
    "round(lealtad_gral,2)\n",
    "\n",
    "lealtad_gral"
   ]
  },
  {
   "cell_type": "code",
   "execution_count": 233,
   "metadata": {},
   "outputs": [],
   "source": [
    "numeric_vars = ['age', 'number_of_dependents', 'number_of_referrals', 'tenure_in_months',\n",
    "                'avg_monthly_long_distance_charges', 'avg_monthly_gb_download', 'monthly_charge',\n",
    "                'total_charges', 'total_refunds', 'total_extra_data_charges', 'total_long_distance_charges',\n",
    "                'total_revenue']"
   ]
  },
  {
   "cell_type": "code",
   "execution_count": 234,
   "metadata": {},
   "outputs": [],
   "source": [
    "categoric_vars = ['gender', 'married', 'offer', 'phone_service', 'multiple_lines', 'internet_service', 'internet_type',\n",
    "                'online_security', 'online_backup', 'device_protection_plan', 'premium_tech_support', 'streaming_tv', 'streaming_movies',\n",
    "                'streaming_music', 'unlimited_data', 'contract', 'paperless_billing', 'payment_method']"
   ]
  },
  {
   "cell_type": "code",
   "execution_count": 235,
   "metadata": {},
   "outputs": [
    {
     "data": {
      "text/plain": [
       "gender                    2\n",
       "married                   2\n",
       "offer                     6\n",
       "phone_service             2\n",
       "multiple_lines            2\n",
       "internet_service          2\n",
       "internet_type             4\n",
       "online_security           2\n",
       "online_backup             2\n",
       "device_protection_plan    2\n",
       "premium_tech_support      2\n",
       "streaming_tv              2\n",
       "streaming_movies          2\n",
       "streaming_music           2\n",
       "unlimited_data            2\n",
       "contract                  3\n",
       "paperless_billing         2\n",
       "payment_method            3\n",
       "dtype: int64"
      ]
     },
     "execution_count": 235,
     "metadata": {},
     "output_type": "execute_result"
    }
   ],
   "source": [
    "df_ft[categoric_vars].nunique()"
   ]
  },
  {
   "cell_type": "markdown",
   "metadata": {},
   "source": [
    "### 3.2 Identificando importancia de las variables"
   ]
  },
  {
   "cell_type": "markdown",
   "metadata": {},
   "source": [
    "Identificamos en qué medida las variables afectan a nuestra variable objetivo\n",
    "- Porcentaje de lealtad\n",
    "- Ratio de esperanza\n",
    "- información mutua"
   ]
  },
  {
   "cell_type": "markdown",
   "metadata": {},
   "source": [
    "#### 3.2.1 Porcentaje de lealtad en grupo de una variable"
   ]
  },
  {
   "cell_type": "markdown",
   "metadata": {},
   "source": [
    "Referencia:\n",
    "\n",
    "Se toma al porcentaje de lealtad_gral como base de comparación para saber si algún grupo de la variable tiene mayor o menor porcentaje de lealtad de lo común<br>\n",
    "Entonces se dan dos situaciones:\n",
    "- La lealtad de un grupo es mayor a lo común (lealtad_gral) --> Ese grupo dentro de su variable tiene mayor esperanza de mantener su lealtad\n",
    "    - grupo - lealtad_gral >0\n",
    "- La lealtad de un grupo es menor a lo común (lealtad_gral) --> Ese grupo dentro de su variable tiene menor esperanza de mantener su lealtad\n",
    "    - grupo - lealtad_gral <0"
   ]
  },
  {
   "cell_type": "code",
   "execution_count": 236,
   "metadata": {},
   "outputs": [],
   "source": [
    "leal_muj = df_ft[df_ft['gender'] == 'female']['customer_status'].mean()"
   ]
  },
  {
   "cell_type": "code",
   "execution_count": 237,
   "metadata": {},
   "outputs": [],
   "source": [
    "leal_hom = df_ft[df_ft['gender'] == 'male']['customer_status'].mean()"
   ]
  },
  {
   "cell_type": "code",
   "execution_count": 238,
   "metadata": {},
   "outputs": [
    {
     "data": {
      "text/plain": [
       "(0.7069032009255688, 0.7148548662492885, -0.007951665323719714)"
      ]
     },
     "execution_count": 238,
     "metadata": {},
     "output_type": "execute_result"
    }
   ],
   "source": [
    "leal_muj, lealtad_gral, (leal_muj-lealtad_gral)"
   ]
  },
  {
   "cell_type": "code",
   "execution_count": 239,
   "metadata": {},
   "outputs": [
    {
     "data": {
      "text/plain": [
       "(0.722554144884242, 0.7148548662492885, 0.007699278634953455)"
      ]
     },
     "execution_count": 239,
     "metadata": {},
     "output_type": "execute_result"
    }
   ],
   "source": [
    "leal_hom, lealtad_gral, (leal_hom - lealtad_gral)"
   ]
  },
  {
   "cell_type": "markdown",
   "metadata": {},
   "source": [
    "#### 3.2.2 Porcentaje de lealtad según concubinato"
   ]
  },
  {
   "cell_type": "code",
   "execution_count": 240,
   "metadata": {},
   "outputs": [],
   "source": [
    "leal_cas = df_ft[df_ft['married'] == 'yes']['customer_status'].mean()"
   ]
  },
  {
   "cell_type": "code",
   "execution_count": 241,
   "metadata": {},
   "outputs": [],
   "source": [
    "leal_sol = df_ft[df_ft['married'] == 'no']['customer_status'].mean()"
   ]
  },
  {
   "cell_type": "code",
   "execution_count": 242,
   "metadata": {},
   "outputs": [
    {
     "data": {
      "text/plain": [
       "(0.7995503934057699, 0.7148548662492885, 0.08469552715648143)"
      ]
     },
     "execution_count": 242,
     "metadata": {},
     "output_type": "execute_result"
    }
   ],
   "source": [
    "\n",
    "leal_cas, lealtad_gral, (leal_cas - lealtad_gral)"
   ]
  },
  {
   "cell_type": "code",
   "execution_count": 243,
   "metadata": {},
   "outputs": [
    {
     "data": {
      "text/plain": [
       "(0.627978478093774, 0.7148548662492885, -0.08687638815551446)"
      ]
     },
     "execution_count": 243,
     "metadata": {},
     "output_type": "execute_result"
    }
   ],
   "source": [
    "leal_sol, lealtad_gral, (leal_sol - lealtad_gral)"
   ]
  },
  {
   "cell_type": "markdown",
   "metadata": {},
   "source": [
    "#### 3.2.3 Ratio de esperanza"
   ]
  },
  {
   "cell_type": "markdown",
   "metadata": {},
   "source": [
    "Es el porcentaje que resulta de dividir la lealtad de un grupo por la lealtad general\n",
    "- Si el porcentaje es mayor a 1 --> Mayor esperanza de lealtad\n",
    "- Si el porcentaje es menor a 1 --> Menor esperanza de lealtad"
   ]
  },
  {
   "cell_type": "code",
   "execution_count": 244,
   "metadata": {},
   "outputs": [
    {
     "data": {
      "text/plain": [
       "0.988876531868013"
      ]
     },
     "execution_count": 244,
     "metadata": {},
     "output_type": "execute_result"
    }
   ],
   "source": [
    "leal_muj / lealtad_gral"
   ]
  },
  {
   "cell_type": "code",
   "execution_count": 245,
   "metadata": {},
   "outputs": [
    {
     "data": {
      "text/plain": [
       "1.0107704080904565"
      ]
     },
     "execution_count": 245,
     "metadata": {},
     "output_type": "execute_result"
    }
   ],
   "source": [
    "leal_hom / lealtad_gral"
   ]
  },
  {
   "cell_type": "code",
   "execution_count": 246,
   "metadata": {},
   "outputs": [
    {
     "data": {
      "text/plain": [
       "0.8784698933206696"
      ]
     },
     "execution_count": 246,
     "metadata": {},
     "output_type": "execute_result"
    }
   ],
   "source": [
    "leal_sol / lealtad_gral"
   ]
  },
  {
   "cell_type": "code",
   "execution_count": 247,
   "metadata": {},
   "outputs": [
    {
     "data": {
      "text/plain": [
       "1.1184793321767021"
      ]
     },
     "execution_count": 247,
     "metadata": {},
     "output_type": "execute_result"
    }
   ],
   "source": [
    "leal_cas / lealtad_gral"
   ]
  },
  {
   "cell_type": "markdown",
   "metadata": {},
   "source": [
    "#### 3.2.4 Automatizando los cálculos"
   ]
  },
  {
   "cell_type": "markdown",
   "metadata": {},
   "source": [
    "Podemos generar un resumen para cada grupo dentro de cada variable indicando:\n",
    "- Porcentaje de lealtad\n",
    "- Cantidad de registros\n",
    "- Diferencia con lealtad base\n",
    "- Ratio de esperanza"
   ]
  },
  {
   "cell_type": "code",
   "execution_count": 248,
   "metadata": {},
   "outputs": [],
   "source": [
    "from IPython.display import display"
   ]
  },
  {
   "cell_type": "code",
   "execution_count": 249,
   "metadata": {},
   "outputs": [
    {
     "name": "stdout",
     "output_type": "stream",
     "text": [
      "gender\n"
     ]
    },
    {
     "data": {
      "text/html": [
       "<div>\n",
       "<style scoped>\n",
       "    .dataframe tbody tr th:only-of-type {\n",
       "        vertical-align: middle;\n",
       "    }\n",
       "\n",
       "    .dataframe tbody tr th {\n",
       "        vertical-align: top;\n",
       "    }\n",
       "\n",
       "    .dataframe thead th {\n",
       "        text-align: right;\n",
       "    }\n",
       "</style>\n",
       "<table border=\"1\" class=\"dataframe\">\n",
       "  <thead>\n",
       "    <tr style=\"text-align: right;\">\n",
       "      <th></th>\n",
       "      <th>gender</th>\n",
       "      <th>mean</th>\n",
       "      <th>count</th>\n",
       "      <th>diferencia</th>\n",
       "      <th>esperanza</th>\n",
       "    </tr>\n",
       "  </thead>\n",
       "  <tbody>\n",
       "    <tr>\n",
       "      <th>0</th>\n",
       "      <td>female</td>\n",
       "      <td>0.706903</td>\n",
       "      <td>2593</td>\n",
       "      <td>-0.007952</td>\n",
       "      <td>0.988877</td>\n",
       "    </tr>\n",
       "    <tr>\n",
       "      <th>1</th>\n",
       "      <td>male</td>\n",
       "      <td>0.722554</td>\n",
       "      <td>2678</td>\n",
       "      <td>0.007699</td>\n",
       "      <td>1.010770</td>\n",
       "    </tr>\n",
       "  </tbody>\n",
       "</table>\n",
       "</div>"
      ],
      "text/plain": [
       "   gender      mean  count  diferencia  esperanza\n",
       "0  female  0.706903   2593   -0.007952   0.988877\n",
       "1    male  0.722554   2678    0.007699   1.010770"
      ]
     },
     "metadata": {},
     "output_type": "display_data"
    },
    {
     "name": "stdout",
     "output_type": "stream",
     "text": [
      "\n",
      " \n",
      "\n",
      "married\n"
     ]
    },
    {
     "data": {
      "text/html": [
       "<div>\n",
       "<style scoped>\n",
       "    .dataframe tbody tr th:only-of-type {\n",
       "        vertical-align: middle;\n",
       "    }\n",
       "\n",
       "    .dataframe tbody tr th {\n",
       "        vertical-align: top;\n",
       "    }\n",
       "\n",
       "    .dataframe thead th {\n",
       "        text-align: right;\n",
       "    }\n",
       "</style>\n",
       "<table border=\"1\" class=\"dataframe\">\n",
       "  <thead>\n",
       "    <tr style=\"text-align: right;\">\n",
       "      <th></th>\n",
       "      <th>married</th>\n",
       "      <th>mean</th>\n",
       "      <th>count</th>\n",
       "      <th>diferencia</th>\n",
       "      <th>esperanza</th>\n",
       "    </tr>\n",
       "  </thead>\n",
       "  <tbody>\n",
       "    <tr>\n",
       "      <th>0</th>\n",
       "      <td>no</td>\n",
       "      <td>0.627978</td>\n",
       "      <td>2602</td>\n",
       "      <td>-0.086876</td>\n",
       "      <td>0.878470</td>\n",
       "    </tr>\n",
       "    <tr>\n",
       "      <th>1</th>\n",
       "      <td>yes</td>\n",
       "      <td>0.799550</td>\n",
       "      <td>2669</td>\n",
       "      <td>0.084696</td>\n",
       "      <td>1.118479</td>\n",
       "    </tr>\n",
       "  </tbody>\n",
       "</table>\n",
       "</div>"
      ],
      "text/plain": [
       "  married      mean  count  diferencia  esperanza\n",
       "0      no  0.627978   2602   -0.086876   0.878470\n",
       "1     yes  0.799550   2669    0.084696   1.118479"
      ]
     },
     "metadata": {},
     "output_type": "display_data"
    },
    {
     "name": "stdout",
     "output_type": "stream",
     "text": [
      "\n",
      " \n",
      "\n",
      "offer\n"
     ]
    },
    {
     "data": {
      "text/html": [
       "<div>\n",
       "<style scoped>\n",
       "    .dataframe tbody tr th:only-of-type {\n",
       "        vertical-align: middle;\n",
       "    }\n",
       "\n",
       "    .dataframe tbody tr th {\n",
       "        vertical-align: top;\n",
       "    }\n",
       "\n",
       "    .dataframe thead th {\n",
       "        text-align: right;\n",
       "    }\n",
       "</style>\n",
       "<table border=\"1\" class=\"dataframe\">\n",
       "  <thead>\n",
       "    <tr style=\"text-align: right;\">\n",
       "      <th></th>\n",
       "      <th>offer</th>\n",
       "      <th>mean</th>\n",
       "      <th>count</th>\n",
       "      <th>diferencia</th>\n",
       "      <th>esperanza</th>\n",
       "    </tr>\n",
       "  </thead>\n",
       "  <tbody>\n",
       "    <tr>\n",
       "      <th>0</th>\n",
       "      <td>none</td>\n",
       "      <td>0.704577</td>\n",
       "      <td>2840</td>\n",
       "      <td>-0.010277</td>\n",
       "      <td>0.985623</td>\n",
       "    </tr>\n",
       "    <tr>\n",
       "      <th>1</th>\n",
       "      <td>offer_a</td>\n",
       "      <td>0.935335</td>\n",
       "      <td>433</td>\n",
       "      <td>0.220480</td>\n",
       "      <td>1.308426</td>\n",
       "    </tr>\n",
       "    <tr>\n",
       "      <th>2</th>\n",
       "      <td>offer_b</td>\n",
       "      <td>0.872564</td>\n",
       "      <td>667</td>\n",
       "      <td>0.157709</td>\n",
       "      <td>1.220617</td>\n",
       "    </tr>\n",
       "    <tr>\n",
       "      <th>3</th>\n",
       "      <td>offer_c</td>\n",
       "      <td>0.778426</td>\n",
       "      <td>343</td>\n",
       "      <td>0.063571</td>\n",
       "      <td>1.088928</td>\n",
       "    </tr>\n",
       "    <tr>\n",
       "      <th>4</th>\n",
       "      <td>offer_d</td>\n",
       "      <td>0.738947</td>\n",
       "      <td>475</td>\n",
       "      <td>0.024093</td>\n",
       "      <td>1.033703</td>\n",
       "    </tr>\n",
       "    <tr>\n",
       "      <th>5</th>\n",
       "      <td>offer_e</td>\n",
       "      <td>0.315789</td>\n",
       "      <td>513</td>\n",
       "      <td>-0.399065</td>\n",
       "      <td>0.441753</td>\n",
       "    </tr>\n",
       "  </tbody>\n",
       "</table>\n",
       "</div>"
      ],
      "text/plain": [
       "     offer      mean  count  diferencia  esperanza\n",
       "0     none  0.704577   2840   -0.010277   0.985623\n",
       "1  offer_a  0.935335    433    0.220480   1.308426\n",
       "2  offer_b  0.872564    667    0.157709   1.220617\n",
       "3  offer_c  0.778426    343    0.063571   1.088928\n",
       "4  offer_d  0.738947    475    0.024093   1.033703\n",
       "5  offer_e  0.315789    513   -0.399065   0.441753"
      ]
     },
     "metadata": {},
     "output_type": "display_data"
    },
    {
     "name": "stdout",
     "output_type": "stream",
     "text": [
      "\n",
      " \n",
      "\n",
      "phone_service\n"
     ]
    },
    {
     "data": {
      "text/html": [
       "<div>\n",
       "<style scoped>\n",
       "    .dataframe tbody tr th:only-of-type {\n",
       "        vertical-align: middle;\n",
       "    }\n",
       "\n",
       "    .dataframe tbody tr th {\n",
       "        vertical-align: top;\n",
       "    }\n",
       "\n",
       "    .dataframe thead th {\n",
       "        text-align: right;\n",
       "    }\n",
       "</style>\n",
       "<table border=\"1\" class=\"dataframe\">\n",
       "  <thead>\n",
       "    <tr style=\"text-align: right;\">\n",
       "      <th></th>\n",
       "      <th>phone_service</th>\n",
       "      <th>mean</th>\n",
       "      <th>count</th>\n",
       "      <th>diferencia</th>\n",
       "      <th>esperanza</th>\n",
       "    </tr>\n",
       "  </thead>\n",
       "  <tbody>\n",
       "    <tr>\n",
       "      <th>0</th>\n",
       "      <td>no</td>\n",
       "      <td>0.733075</td>\n",
       "      <td>517</td>\n",
       "      <td>0.018221</td>\n",
       "      <td>1.025488</td>\n",
       "    </tr>\n",
       "    <tr>\n",
       "      <th>1</th>\n",
       "      <td>yes</td>\n",
       "      <td>0.712873</td>\n",
       "      <td>4754</td>\n",
       "      <td>-0.001981</td>\n",
       "      <td>0.997228</td>\n",
       "    </tr>\n",
       "  </tbody>\n",
       "</table>\n",
       "</div>"
      ],
      "text/plain": [
       "  phone_service      mean  count  diferencia  esperanza\n",
       "0            no  0.733075    517    0.018221   1.025488\n",
       "1           yes  0.712873   4754   -0.001981   0.997228"
      ]
     },
     "metadata": {},
     "output_type": "display_data"
    },
    {
     "name": "stdout",
     "output_type": "stream",
     "text": [
      "\n",
      " \n",
      "\n",
      "multiple_lines\n"
     ]
    },
    {
     "data": {
      "text/html": [
       "<div>\n",
       "<style scoped>\n",
       "    .dataframe tbody tr th:only-of-type {\n",
       "        vertical-align: middle;\n",
       "    }\n",
       "\n",
       "    .dataframe tbody tr th {\n",
       "        vertical-align: top;\n",
       "    }\n",
       "\n",
       "    .dataframe thead th {\n",
       "        text-align: right;\n",
       "    }\n",
       "</style>\n",
       "<table border=\"1\" class=\"dataframe\">\n",
       "  <thead>\n",
       "    <tr style=\"text-align: right;\">\n",
       "      <th></th>\n",
       "      <th>multiple_lines</th>\n",
       "      <th>mean</th>\n",
       "      <th>count</th>\n",
       "      <th>diferencia</th>\n",
       "      <th>esperanza</th>\n",
       "    </tr>\n",
       "  </thead>\n",
       "  <tbody>\n",
       "    <tr>\n",
       "      <th>0</th>\n",
       "      <td>no</td>\n",
       "      <td>0.719437</td>\n",
       "      <td>2912</td>\n",
       "      <td>0.004582</td>\n",
       "      <td>1.006410</td>\n",
       "    </tr>\n",
       "    <tr>\n",
       "      <th>1</th>\n",
       "      <td>yes</td>\n",
       "      <td>0.709199</td>\n",
       "      <td>2359</td>\n",
       "      <td>-0.005656</td>\n",
       "      <td>0.992088</td>\n",
       "    </tr>\n",
       "  </tbody>\n",
       "</table>\n",
       "</div>"
      ],
      "text/plain": [
       "  multiple_lines      mean  count  diferencia  esperanza\n",
       "0             no  0.719437   2912    0.004582   1.006410\n",
       "1            yes  0.709199   2359   -0.005656   0.992088"
      ]
     },
     "metadata": {},
     "output_type": "display_data"
    },
    {
     "name": "stdout",
     "output_type": "stream",
     "text": [
      "\n",
      " \n",
      "\n",
      "internet_service\n"
     ]
    },
    {
     "data": {
      "text/html": [
       "<div>\n",
       "<style scoped>\n",
       "    .dataframe tbody tr th:only-of-type {\n",
       "        vertical-align: middle;\n",
       "    }\n",
       "\n",
       "    .dataframe tbody tr th {\n",
       "        vertical-align: top;\n",
       "    }\n",
       "\n",
       "    .dataframe thead th {\n",
       "        text-align: right;\n",
       "    }\n",
       "</style>\n",
       "<table border=\"1\" class=\"dataframe\">\n",
       "  <thead>\n",
       "    <tr style=\"text-align: right;\">\n",
       "      <th></th>\n",
       "      <th>internet_service</th>\n",
       "      <th>mean</th>\n",
       "      <th>count</th>\n",
       "      <th>diferencia</th>\n",
       "      <th>esperanza</th>\n",
       "    </tr>\n",
       "  </thead>\n",
       "  <tbody>\n",
       "    <tr>\n",
       "      <th>0</th>\n",
       "      <td>no</td>\n",
       "      <td>0.917215</td>\n",
       "      <td>1063</td>\n",
       "      <td>0.202361</td>\n",
       "      <td>1.283079</td>\n",
       "    </tr>\n",
       "    <tr>\n",
       "      <th>1</th>\n",
       "      <td>yes</td>\n",
       "      <td>0.663736</td>\n",
       "      <td>4208</td>\n",
       "      <td>-0.051119</td>\n",
       "      <td>0.928490</td>\n",
       "    </tr>\n",
       "  </tbody>\n",
       "</table>\n",
       "</div>"
      ],
      "text/plain": [
       "  internet_service      mean  count  diferencia  esperanza\n",
       "0               no  0.917215   1063    0.202361   1.283079\n",
       "1              yes  0.663736   4208   -0.051119   0.928490"
      ]
     },
     "metadata": {},
     "output_type": "display_data"
    },
    {
     "name": "stdout",
     "output_type": "stream",
     "text": [
      "\n",
      " \n",
      "\n",
      "internet_type\n"
     ]
    },
    {
     "data": {
      "text/html": [
       "<div>\n",
       "<style scoped>\n",
       "    .dataframe tbody tr th:only-of-type {\n",
       "        vertical-align: middle;\n",
       "    }\n",
       "\n",
       "    .dataframe tbody tr th {\n",
       "        vertical-align: top;\n",
       "    }\n",
       "\n",
       "    .dataframe thead th {\n",
       "        text-align: right;\n",
       "    }\n",
       "</style>\n",
       "<table border=\"1\" class=\"dataframe\">\n",
       "  <thead>\n",
       "    <tr style=\"text-align: right;\">\n",
       "      <th></th>\n",
       "      <th>internet_type</th>\n",
       "      <th>mean</th>\n",
       "      <th>count</th>\n",
       "      <th>diferencia</th>\n",
       "      <th>esperanza</th>\n",
       "    </tr>\n",
       "  </thead>\n",
       "  <tbody>\n",
       "    <tr>\n",
       "      <th>0</th>\n",
       "      <td>cable</td>\n",
       "      <td>0.720968</td>\n",
       "      <td>620</td>\n",
       "      <td>0.006113</td>\n",
       "      <td>1.008551</td>\n",
       "    </tr>\n",
       "    <tr>\n",
       "      <th>1</th>\n",
       "      <td>dsl</td>\n",
       "      <td>0.795455</td>\n",
       "      <td>1232</td>\n",
       "      <td>0.080600</td>\n",
       "      <td>1.112750</td>\n",
       "    </tr>\n",
       "    <tr>\n",
       "      <th>2</th>\n",
       "      <td>fiber_optic</td>\n",
       "      <td>0.579796</td>\n",
       "      <td>2356</td>\n",
       "      <td>-0.135059</td>\n",
       "      <td>0.811069</td>\n",
       "    </tr>\n",
       "    <tr>\n",
       "      <th>3</th>\n",
       "      <td>no</td>\n",
       "      <td>0.917215</td>\n",
       "      <td>1063</td>\n",
       "      <td>0.202361</td>\n",
       "      <td>1.283079</td>\n",
       "    </tr>\n",
       "  </tbody>\n",
       "</table>\n",
       "</div>"
      ],
      "text/plain": [
       "  internet_type      mean  count  diferencia  esperanza\n",
       "0         cable  0.720968    620    0.006113   1.008551\n",
       "1           dsl  0.795455   1232    0.080600   1.112750\n",
       "2   fiber_optic  0.579796   2356   -0.135059   0.811069\n",
       "3            no  0.917215   1063    0.202361   1.283079"
      ]
     },
     "metadata": {},
     "output_type": "display_data"
    },
    {
     "name": "stdout",
     "output_type": "stream",
     "text": [
      "\n",
      " \n",
      "\n",
      "online_security\n"
     ]
    },
    {
     "data": {
      "text/html": [
       "<div>\n",
       "<style scoped>\n",
       "    .dataframe tbody tr th:only-of-type {\n",
       "        vertical-align: middle;\n",
       "    }\n",
       "\n",
       "    .dataframe tbody tr th {\n",
       "        vertical-align: top;\n",
       "    }\n",
       "\n",
       "    .dataframe thead th {\n",
       "        text-align: right;\n",
       "    }\n",
       "</style>\n",
       "<table border=\"1\" class=\"dataframe\">\n",
       "  <thead>\n",
       "    <tr style=\"text-align: right;\">\n",
       "      <th></th>\n",
       "      <th>online_security</th>\n",
       "      <th>mean</th>\n",
       "      <th>count</th>\n",
       "      <th>diferencia</th>\n",
       "      <th>esperanza</th>\n",
       "    </tr>\n",
       "  </thead>\n",
       "  <tbody>\n",
       "    <tr>\n",
       "      <th>0</th>\n",
       "      <td>no</td>\n",
       "      <td>0.654013</td>\n",
       "      <td>3688</td>\n",
       "      <td>-0.060842</td>\n",
       "      <td>0.914889</td>\n",
       "    </tr>\n",
       "    <tr>\n",
       "      <th>1</th>\n",
       "      <td>yes</td>\n",
       "      <td>0.856601</td>\n",
       "      <td>1583</td>\n",
       "      <td>0.141747</td>\n",
       "      <td>1.198287</td>\n",
       "    </tr>\n",
       "  </tbody>\n",
       "</table>\n",
       "</div>"
      ],
      "text/plain": [
       "  online_security      mean  count  diferencia  esperanza\n",
       "0              no  0.654013   3688   -0.060842   0.914889\n",
       "1             yes  0.856601   1583    0.141747   1.198287"
      ]
     },
     "metadata": {},
     "output_type": "display_data"
    },
    {
     "name": "stdout",
     "output_type": "stream",
     "text": [
      "\n",
      " \n",
      "\n",
      "online_backup\n"
     ]
    },
    {
     "data": {
      "text/html": [
       "<div>\n",
       "<style scoped>\n",
       "    .dataframe tbody tr th:only-of-type {\n",
       "        vertical-align: middle;\n",
       "    }\n",
       "\n",
       "    .dataframe tbody tr th {\n",
       "        vertical-align: top;\n",
       "    }\n",
       "\n",
       "    .dataframe thead th {\n",
       "        text-align: right;\n",
       "    }\n",
       "</style>\n",
       "<table border=\"1\" class=\"dataframe\">\n",
       "  <thead>\n",
       "    <tr style=\"text-align: right;\">\n",
       "      <th></th>\n",
       "      <th>online_backup</th>\n",
       "      <th>mean</th>\n",
       "      <th>count</th>\n",
       "      <th>diferencia</th>\n",
       "      <th>esperanza</th>\n",
       "    </tr>\n",
       "  </thead>\n",
       "  <tbody>\n",
       "    <tr>\n",
       "      <th>0</th>\n",
       "      <td>no</td>\n",
       "      <td>0.681508</td>\n",
       "      <td>3369</td>\n",
       "      <td>-0.033347</td>\n",
       "      <td>0.953351</td>\n",
       "    </tr>\n",
       "    <tr>\n",
       "      <th>1</th>\n",
       "      <td>yes</td>\n",
       "      <td>0.773922</td>\n",
       "      <td>1902</td>\n",
       "      <td>0.059067</td>\n",
       "      <td>1.082628</td>\n",
       "    </tr>\n",
       "  </tbody>\n",
       "</table>\n",
       "</div>"
      ],
      "text/plain": [
       "  online_backup      mean  count  diferencia  esperanza\n",
       "0            no  0.681508   3369   -0.033347   0.953351\n",
       "1           yes  0.773922   1902    0.059067   1.082628"
      ]
     },
     "metadata": {},
     "output_type": "display_data"
    },
    {
     "name": "stdout",
     "output_type": "stream",
     "text": [
      "\n",
      " \n",
      "\n",
      "device_protection_plan\n"
     ]
    },
    {
     "data": {
      "text/html": [
       "<div>\n",
       "<style scoped>\n",
       "    .dataframe tbody tr th:only-of-type {\n",
       "        vertical-align: middle;\n",
       "    }\n",
       "\n",
       "    .dataframe tbody tr th {\n",
       "        vertical-align: top;\n",
       "    }\n",
       "\n",
       "    .dataframe thead th {\n",
       "        text-align: right;\n",
       "    }\n",
       "</style>\n",
       "<table border=\"1\" class=\"dataframe\">\n",
       "  <thead>\n",
       "    <tr style=\"text-align: right;\">\n",
       "      <th></th>\n",
       "      <th>device_protection_plan</th>\n",
       "      <th>mean</th>\n",
       "      <th>count</th>\n",
       "      <th>diferencia</th>\n",
       "      <th>esperanza</th>\n",
       "    </tr>\n",
       "  </thead>\n",
       "  <tbody>\n",
       "    <tr>\n",
       "      <th>0</th>\n",
       "      <td>no</td>\n",
       "      <td>0.680991</td>\n",
       "      <td>3351</td>\n",
       "      <td>-0.033864</td>\n",
       "      <td>0.952628</td>\n",
       "    </tr>\n",
       "    <tr>\n",
       "      <th>1</th>\n",
       "      <td>yes</td>\n",
       "      <td>0.773958</td>\n",
       "      <td>1920</td>\n",
       "      <td>0.059103</td>\n",
       "      <td>1.082679</td>\n",
       "    </tr>\n",
       "  </tbody>\n",
       "</table>\n",
       "</div>"
      ],
      "text/plain": [
       "  device_protection_plan      mean  count  diferencia  esperanza\n",
       "0                     no  0.680991   3351   -0.033864   0.952628\n",
       "1                    yes  0.773958   1920    0.059103   1.082679"
      ]
     },
     "metadata": {},
     "output_type": "display_data"
    },
    {
     "name": "stdout",
     "output_type": "stream",
     "text": [
      "\n",
      " \n",
      "\n",
      "premium_tech_support\n"
     ]
    },
    {
     "data": {
      "text/html": [
       "<div>\n",
       "<style scoped>\n",
       "    .dataframe tbody tr th:only-of-type {\n",
       "        vertical-align: middle;\n",
       "    }\n",
       "\n",
       "    .dataframe tbody tr th {\n",
       "        vertical-align: top;\n",
       "    }\n",
       "\n",
       "    .dataframe thead th {\n",
       "        text-align: right;\n",
       "    }\n",
       "</style>\n",
       "<table border=\"1\" class=\"dataframe\">\n",
       "  <thead>\n",
       "    <tr style=\"text-align: right;\">\n",
       "      <th></th>\n",
       "      <th>premium_tech_support</th>\n",
       "      <th>mean</th>\n",
       "      <th>count</th>\n",
       "      <th>diferencia</th>\n",
       "      <th>esperanza</th>\n",
       "    </tr>\n",
       "  </thead>\n",
       "  <tbody>\n",
       "    <tr>\n",
       "      <th>0</th>\n",
       "      <td>no</td>\n",
       "      <td>0.657852</td>\n",
       "      <td>3668</td>\n",
       "      <td>-0.057003</td>\n",
       "      <td>0.920259</td>\n",
       "    </tr>\n",
       "    <tr>\n",
       "      <th>1</th>\n",
       "      <td>yes</td>\n",
       "      <td>0.845290</td>\n",
       "      <td>1603</td>\n",
       "      <td>0.130435</td>\n",
       "      <td>1.182464</td>\n",
       "    </tr>\n",
       "  </tbody>\n",
       "</table>\n",
       "</div>"
      ],
      "text/plain": [
       "  premium_tech_support      mean  count  diferencia  esperanza\n",
       "0                   no  0.657852   3668   -0.057003   0.920259\n",
       "1                  yes  0.845290   1603    0.130435   1.182464"
      ]
     },
     "metadata": {},
     "output_type": "display_data"
    },
    {
     "name": "stdout",
     "output_type": "stream",
     "text": [
      "\n",
      " \n",
      "\n",
      "streaming_tv\n"
     ]
    },
    {
     "data": {
      "text/html": [
       "<div>\n",
       "<style scoped>\n",
       "    .dataframe tbody tr th:only-of-type {\n",
       "        vertical-align: middle;\n",
       "    }\n",
       "\n",
       "    .dataframe tbody tr th {\n",
       "        vertical-align: top;\n",
       "    }\n",
       "\n",
       "    .dataframe thead th {\n",
       "        text-align: right;\n",
       "    }\n",
       "</style>\n",
       "<table border=\"1\" class=\"dataframe\">\n",
       "  <thead>\n",
       "    <tr style=\"text-align: right;\">\n",
       "      <th></th>\n",
       "      <th>streaming_tv</th>\n",
       "      <th>mean</th>\n",
       "      <th>count</th>\n",
       "      <th>diferencia</th>\n",
       "      <th>esperanza</th>\n",
       "    </tr>\n",
       "  </thead>\n",
       "  <tbody>\n",
       "    <tr>\n",
       "      <th>0</th>\n",
       "      <td>no</td>\n",
       "      <td>0.727417</td>\n",
       "      <td>3144</td>\n",
       "      <td>0.012562</td>\n",
       "      <td>1.017573</td>\n",
       "    </tr>\n",
       "    <tr>\n",
       "      <th>1</th>\n",
       "      <td>yes</td>\n",
       "      <td>0.696286</td>\n",
       "      <td>2127</td>\n",
       "      <td>-0.018569</td>\n",
       "      <td>0.974024</td>\n",
       "    </tr>\n",
       "  </tbody>\n",
       "</table>\n",
       "</div>"
      ],
      "text/plain": [
       "  streaming_tv      mean  count  diferencia  esperanza\n",
       "0           no  0.727417   3144    0.012562   1.017573\n",
       "1          yes  0.696286   2127   -0.018569   0.974024"
      ]
     },
     "metadata": {},
     "output_type": "display_data"
    },
    {
     "name": "stdout",
     "output_type": "stream",
     "text": [
      "\n",
      " \n",
      "\n",
      "streaming_movies\n"
     ]
    },
    {
     "data": {
      "text/html": [
       "<div>\n",
       "<style scoped>\n",
       "    .dataframe tbody tr th:only-of-type {\n",
       "        vertical-align: middle;\n",
       "    }\n",
       "\n",
       "    .dataframe tbody tr th {\n",
       "        vertical-align: top;\n",
       "    }\n",
       "\n",
       "    .dataframe thead th {\n",
       "        text-align: right;\n",
       "    }\n",
       "</style>\n",
       "<table border=\"1\" class=\"dataframe\">\n",
       "  <thead>\n",
       "    <tr style=\"text-align: right;\">\n",
       "      <th></th>\n",
       "      <th>streaming_movies</th>\n",
       "      <th>mean</th>\n",
       "      <th>count</th>\n",
       "      <th>diferencia</th>\n",
       "      <th>esperanza</th>\n",
       "    </tr>\n",
       "  </thead>\n",
       "  <tbody>\n",
       "    <tr>\n",
       "      <th>0</th>\n",
       "      <td>no</td>\n",
       "      <td>0.729200</td>\n",
       "      <td>3113</td>\n",
       "      <td>0.014345</td>\n",
       "      <td>1.020067</td>\n",
       "    </tr>\n",
       "    <tr>\n",
       "      <th>1</th>\n",
       "      <td>yes</td>\n",
       "      <td>0.694161</td>\n",
       "      <td>2158</td>\n",
       "      <td>-0.020694</td>\n",
       "      <td>0.971052</td>\n",
       "    </tr>\n",
       "  </tbody>\n",
       "</table>\n",
       "</div>"
      ],
      "text/plain": [
       "  streaming_movies      mean  count  diferencia  esperanza\n",
       "0               no  0.729200   3113    0.014345   1.020067\n",
       "1              yes  0.694161   2158   -0.020694   0.971052"
      ]
     },
     "metadata": {},
     "output_type": "display_data"
    },
    {
     "name": "stdout",
     "output_type": "stream",
     "text": [
      "\n",
      " \n",
      "\n",
      "streaming_music\n"
     ]
    },
    {
     "data": {
      "text/html": [
       "<div>\n",
       "<style scoped>\n",
       "    .dataframe tbody tr th:only-of-type {\n",
       "        vertical-align: middle;\n",
       "    }\n",
       "\n",
       "    .dataframe tbody tr th {\n",
       "        vertical-align: top;\n",
       "    }\n",
       "\n",
       "    .dataframe thead th {\n",
       "        text-align: right;\n",
       "    }\n",
       "</style>\n",
       "<table border=\"1\" class=\"dataframe\">\n",
       "  <thead>\n",
       "    <tr style=\"text-align: right;\">\n",
       "      <th></th>\n",
       "      <th>streaming_music</th>\n",
       "      <th>mean</th>\n",
       "      <th>count</th>\n",
       "      <th>diferencia</th>\n",
       "      <th>esperanza</th>\n",
       "    </tr>\n",
       "  </thead>\n",
       "  <tbody>\n",
       "    <tr>\n",
       "      <th>0</th>\n",
       "      <td>no</td>\n",
       "      <td>0.725514</td>\n",
       "      <td>3308</td>\n",
       "      <td>0.010659</td>\n",
       "      <td>1.014911</td>\n",
       "    </tr>\n",
       "    <tr>\n",
       "      <th>1</th>\n",
       "      <td>yes</td>\n",
       "      <td>0.696893</td>\n",
       "      <td>1963</td>\n",
       "      <td>-0.017962</td>\n",
       "      <td>0.974873</td>\n",
       "    </tr>\n",
       "  </tbody>\n",
       "</table>\n",
       "</div>"
      ],
      "text/plain": [
       "  streaming_music      mean  count  diferencia  esperanza\n",
       "0              no  0.725514   3308    0.010659   1.014911\n",
       "1             yes  0.696893   1963   -0.017962   0.974873"
      ]
     },
     "metadata": {},
     "output_type": "display_data"
    },
    {
     "name": "stdout",
     "output_type": "stream",
     "text": [
      "\n",
      " \n",
      "\n",
      "unlimited_data\n"
     ]
    },
    {
     "data": {
      "text/html": [
       "<div>\n",
       "<style scoped>\n",
       "    .dataframe tbody tr th:only-of-type {\n",
       "        vertical-align: middle;\n",
       "    }\n",
       "\n",
       "    .dataframe tbody tr th {\n",
       "        vertical-align: top;\n",
       "    }\n",
       "\n",
       "    .dataframe thead th {\n",
       "        text-align: right;\n",
       "    }\n",
       "</style>\n",
       "<table border=\"1\" class=\"dataframe\">\n",
       "  <thead>\n",
       "    <tr style=\"text-align: right;\">\n",
       "      <th></th>\n",
       "      <th>unlimited_data</th>\n",
       "      <th>mean</th>\n",
       "      <th>count</th>\n",
       "      <th>diferencia</th>\n",
       "      <th>esperanza</th>\n",
       "    </tr>\n",
       "  </thead>\n",
       "  <tbody>\n",
       "    <tr>\n",
       "      <th>0</th>\n",
       "      <td>no</td>\n",
       "      <td>0.823350</td>\n",
       "      <td>1636</td>\n",
       "      <td>0.108495</td>\n",
       "      <td>1.151772</td>\n",
       "    </tr>\n",
       "    <tr>\n",
       "      <th>1</th>\n",
       "      <td>yes</td>\n",
       "      <td>0.666025</td>\n",
       "      <td>3635</td>\n",
       "      <td>-0.048830</td>\n",
       "      <td>0.931692</td>\n",
       "    </tr>\n",
       "  </tbody>\n",
       "</table>\n",
       "</div>"
      ],
      "text/plain": [
       "  unlimited_data      mean  count  diferencia  esperanza\n",
       "0             no  0.823350   1636    0.108495   1.151772\n",
       "1            yes  0.666025   3635   -0.048830   0.931692"
      ]
     },
     "metadata": {},
     "output_type": "display_data"
    },
    {
     "name": "stdout",
     "output_type": "stream",
     "text": [
      "\n",
      " \n",
      "\n",
      "contract\n"
     ]
    },
    {
     "data": {
      "text/html": [
       "<div>\n",
       "<style scoped>\n",
       "    .dataframe tbody tr th:only-of-type {\n",
       "        vertical-align: middle;\n",
       "    }\n",
       "\n",
       "    .dataframe tbody tr th {\n",
       "        vertical-align: top;\n",
       "    }\n",
       "\n",
       "    .dataframe thead th {\n",
       "        text-align: right;\n",
       "    }\n",
       "</style>\n",
       "<table border=\"1\" class=\"dataframe\">\n",
       "  <thead>\n",
       "    <tr style=\"text-align: right;\">\n",
       "      <th></th>\n",
       "      <th>contract</th>\n",
       "      <th>mean</th>\n",
       "      <th>count</th>\n",
       "      <th>diferencia</th>\n",
       "      <th>esperanza</th>\n",
       "    </tr>\n",
       "  </thead>\n",
       "  <tbody>\n",
       "    <tr>\n",
       "      <th>0</th>\n",
       "      <td>month-to-month</td>\n",
       "      <td>0.479656</td>\n",
       "      <td>2556</td>\n",
       "      <td>-0.235199</td>\n",
       "      <td>0.670983</td>\n",
       "    </tr>\n",
       "    <tr>\n",
       "      <th>1</th>\n",
       "      <td>one_year</td>\n",
       "      <td>0.888430</td>\n",
       "      <td>1210</td>\n",
       "      <td>0.173575</td>\n",
       "      <td>1.242811</td>\n",
       "    </tr>\n",
       "    <tr>\n",
       "      <th>2</th>\n",
       "      <td>two_year</td>\n",
       "      <td>0.974751</td>\n",
       "      <td>1505</td>\n",
       "      <td>0.259896</td>\n",
       "      <td>1.363565</td>\n",
       "    </tr>\n",
       "  </tbody>\n",
       "</table>\n",
       "</div>"
      ],
      "text/plain": [
       "         contract      mean  count  diferencia  esperanza\n",
       "0  month-to-month  0.479656   2556   -0.235199   0.670983\n",
       "1        one_year  0.888430   1210    0.173575   1.242811\n",
       "2        two_year  0.974751   1505    0.259896   1.363565"
      ]
     },
     "metadata": {},
     "output_type": "display_data"
    },
    {
     "name": "stdout",
     "output_type": "stream",
     "text": [
      "\n",
      " \n",
      "\n",
      "paperless_billing\n"
     ]
    },
    {
     "data": {
      "text/html": [
       "<div>\n",
       "<style scoped>\n",
       "    .dataframe tbody tr th:only-of-type {\n",
       "        vertical-align: middle;\n",
       "    }\n",
       "\n",
       "    .dataframe tbody tr th {\n",
       "        vertical-align: top;\n",
       "    }\n",
       "\n",
       "    .dataframe thead th {\n",
       "        text-align: right;\n",
       "    }\n",
       "</style>\n",
       "<table border=\"1\" class=\"dataframe\">\n",
       "  <thead>\n",
       "    <tr style=\"text-align: right;\">\n",
       "      <th></th>\n",
       "      <th>paperless_billing</th>\n",
       "      <th>mean</th>\n",
       "      <th>count</th>\n",
       "      <th>diferencia</th>\n",
       "      <th>esperanza</th>\n",
       "    </tr>\n",
       "  </thead>\n",
       "  <tbody>\n",
       "    <tr>\n",
       "      <th>0</th>\n",
       "      <td>no</td>\n",
       "      <td>0.818531</td>\n",
       "      <td>2083</td>\n",
       "      <td>0.103676</td>\n",
       "      <td>1.145031</td>\n",
       "    </tr>\n",
       "    <tr>\n",
       "      <th>1</th>\n",
       "      <td>yes</td>\n",
       "      <td>0.647114</td>\n",
       "      <td>3188</td>\n",
       "      <td>-0.067741</td>\n",
       "      <td>0.905239</td>\n",
       "    </tr>\n",
       "  </tbody>\n",
       "</table>\n",
       "</div>"
      ],
      "text/plain": [
       "  paperless_billing      mean  count  diferencia  esperanza\n",
       "0                no  0.818531   2083    0.103676   1.145031\n",
       "1               yes  0.647114   3188   -0.067741   0.905239"
      ]
     },
     "metadata": {},
     "output_type": "display_data"
    },
    {
     "name": "stdout",
     "output_type": "stream",
     "text": [
      "\n",
      " \n",
      "\n",
      "payment_method\n"
     ]
    },
    {
     "data": {
      "text/html": [
       "<div>\n",
       "<style scoped>\n",
       "    .dataframe tbody tr th:only-of-type {\n",
       "        vertical-align: middle;\n",
       "    }\n",
       "\n",
       "    .dataframe tbody tr th {\n",
       "        vertical-align: top;\n",
       "    }\n",
       "\n",
       "    .dataframe thead th {\n",
       "        text-align: right;\n",
       "    }\n",
       "</style>\n",
       "<table border=\"1\" class=\"dataframe\">\n",
       "  <thead>\n",
       "    <tr style=\"text-align: right;\">\n",
       "      <th></th>\n",
       "      <th>payment_method</th>\n",
       "      <th>mean</th>\n",
       "      <th>count</th>\n",
       "      <th>diferencia</th>\n",
       "      <th>esperanza</th>\n",
       "    </tr>\n",
       "  </thead>\n",
       "  <tbody>\n",
       "    <tr>\n",
       "      <th>0</th>\n",
       "      <td>bank_withdrawal</td>\n",
       "      <td>0.643240</td>\n",
       "      <td>2988</td>\n",
       "      <td>-0.071615</td>\n",
       "      <td>0.899818</td>\n",
       "    </tr>\n",
       "    <tr>\n",
       "      <th>1</th>\n",
       "      <td>credit_card</td>\n",
       "      <td>0.838389</td>\n",
       "      <td>2011</td>\n",
       "      <td>0.123534</td>\n",
       "      <td>1.172810</td>\n",
       "    </tr>\n",
       "    <tr>\n",
       "      <th>2</th>\n",
       "      <td>mailed_check</td>\n",
       "      <td>0.588235</td>\n",
       "      <td>272</td>\n",
       "      <td>-0.126620</td>\n",
       "      <td>0.822874</td>\n",
       "    </tr>\n",
       "  </tbody>\n",
       "</table>\n",
       "</div>"
      ],
      "text/plain": [
       "    payment_method      mean  count  diferencia  esperanza\n",
       "0  bank_withdrawal  0.643240   2988   -0.071615   0.899818\n",
       "1      credit_card  0.838389   2011    0.123534   1.172810\n",
       "2     mailed_check  0.588235    272   -0.126620   0.822874"
      ]
     },
     "metadata": {},
     "output_type": "display_data"
    },
    {
     "name": "stdout",
     "output_type": "stream",
     "text": [
      "\n",
      " \n",
      "\n"
     ]
    }
   ],
   "source": [
    "for c in categoric_vars:\n",
    "    print(c)\n",
    "    df_group = df_ft.groupby(c)['customer_status'].agg(['mean', 'count'])\n",
    "    df_group['diferencia'] = df_group['mean'] - lealtad_gral\n",
    "    df_group['esperanza'] = df_group['mean'] / lealtad_gral\n",
    "    display(df_group.reset_index())\n",
    "    print('\\n', '\\n')"
   ]
  },
  {
   "cell_type": "markdown",
   "metadata": {},
   "source": [
    "#### 3.2.5 Información mutua"
   ]
  },
  {
   "cell_type": "markdown",
   "metadata": {},
   "source": [
    "Se usa para estimar la importancia de variables categóricas\n",
    "Nos indica cuánto podemos aprender de una variable si conocemos los valores de otra"
   ]
  },
  {
   "cell_type": "code",
   "execution_count": 250,
   "metadata": {},
   "outputs": [],
   "source": [
    "from sklearn.metrics import mutual_info_score"
   ]
  },
  {
   "cell_type": "markdown",
   "metadata": {},
   "source": [
    "Cuando se calcula la información mutua de una variable, se obtiene un puntaje que nos indica del 0 al 1 qué tanta importancia tiene para el conjunto de datos"
   ]
  },
  {
   "cell_type": "code",
   "execution_count": 251,
   "metadata": {},
   "outputs": [
    {
     "data": {
      "text/plain": [
       "0.14809345785897848"
      ]
     },
     "execution_count": 251,
     "metadata": {},
     "output_type": "execute_result"
    }
   ],
   "source": [
    "mutual_info_score(df_ft['customer_status'], df_ft['contract'])"
   ]
  },
  {
   "cell_type": "code",
   "execution_count": 252,
   "metadata": {},
   "outputs": [
    {
     "data": {
      "text/plain": [
       "0.00015016154060060183"
      ]
     },
     "execution_count": 252,
     "metadata": {},
     "output_type": "execute_result"
    }
   ],
   "source": [
    "mutual_info_score(df_ft['customer_status'], df_ft['gender'])"
   ]
  },
  {
   "cell_type": "markdown",
   "metadata": {},
   "source": [
    "Podemos aplicar este puntaje a todas las variables"
   ]
  },
  {
   "cell_type": "code",
   "execution_count": 253,
   "metadata": {},
   "outputs": [],
   "source": [
    "def info_mutua(categorias):\n",
    "    return mutual_info_score(categorias, df_ft['customer_status'])"
   ]
  },
  {
   "cell_type": "code",
   "execution_count": 254,
   "metadata": {},
   "outputs": [
    {
     "data": {
      "text/plain": [
       "contract                  0.148093\n",
       "offer                     0.055920\n",
       "internet_type             0.048009\n",
       "internet_service          0.030412\n",
       "payment_method            0.024690\n",
       "online_security           0.023048\n",
       "premium_tech_support      0.019666\n",
       "married                   0.018234\n",
       "paperless_billing         0.017927\n",
       "unlimited_data            0.013765\n",
       "device_protection_plan    0.005019\n",
       "online_backup             0.004941\n",
       "streaming_movies          0.000725\n",
       "streaming_tv              0.000570\n",
       "streaming_music           0.000467\n",
       "gender                    0.000150\n",
       "phone_service             0.000090\n",
       "multiple_lines            0.000064\n",
       "dtype: float64"
      ]
     },
     "execution_count": 254,
     "metadata": {},
     "output_type": "execute_result"
    }
   ],
   "source": [
    "df_ft[categoric_vars].apply(info_mutua).sort_values(ascending=False)"
   ]
  },
  {
   "cell_type": "markdown",
   "metadata": {},
   "source": [
    "#### 3.2.6 Correlación entre variables numéricas"
   ]
  },
  {
   "cell_type": "markdown",
   "metadata": {},
   "source": [
    "Establece la dependencia entre dos variables numéricas<br>\n",
    "La correlación puede ser:\n",
    "- Positiva --> Cuando la variable objetivo modifica su valor, la variable evaluada lo hace en igual sentido\n",
    "    - Es decir: Cuando la lealtad de un cliente aumenta, también aumenta su longevidad\n",
    "- Negativa --> Cuando la variable objetivo modifica su valor, la variable evaluada lo hace en sentido contrario\n",
    "    - Es decir: Cuando la lealtad de un cliente baja, aumenta el precio facturado por mes"
   ]
  },
  {
   "cell_type": "markdown",
   "metadata": {},
   "source": [
    "Vamos a explorar con ejemplos del dataset"
   ]
  },
  {
   "cell_type": "markdown",
   "metadata": {},
   "source": [
    "**Correlación positiva 👇**<br>\n",
    "A medida que aumenta la cantidad de meses de suscripción, aumenta el porcentaje de clientes leales"
   ]
  },
  {
   "cell_type": "code",
   "execution_count": 255,
   "metadata": {},
   "outputs": [
    {
     "data": {
      "text/plain": [
       "(1, 72)"
      ]
     },
     "execution_count": 255,
     "metadata": {},
     "output_type": "execute_result"
    }
   ],
   "source": [
    "df_ft['tenure_in_months'].min(), df_ft['tenure_in_months'].max()"
   ]
  },
  {
   "cell_type": "code",
   "execution_count": 256,
   "metadata": {},
   "outputs": [
    {
     "data": {
      "text/plain": [
       "0.17246175243393602"
      ]
     },
     "execution_count": 256,
     "metadata": {},
     "output_type": "execute_result"
    }
   ],
   "source": [
    "df_ft[df_ft['tenure_in_months'] <= 5]['customer_status'].mean()"
   ]
  },
  {
   "cell_type": "code",
   "execution_count": 257,
   "metadata": {},
   "outputs": [
    {
     "data": {
      "text/plain": [
       "0.6449438202247191"
      ]
     },
     "execution_count": 257,
     "metadata": {},
     "output_type": "execute_result"
    }
   ],
   "source": [
    "df_ft[(df_ft['tenure_in_months'] > 5) & (df_ft['tenure_in_months'] <= 15)]['customer_status'].mean()"
   ]
  },
  {
   "cell_type": "code",
   "execution_count": 258,
   "metadata": {},
   "outputs": [
    {
     "data": {
      "text/plain": [
       "0.753731343283582"
      ]
     },
     "execution_count": 258,
     "metadata": {},
     "output_type": "execute_result"
    }
   ],
   "source": [
    "df_ft[(df_ft['tenure_in_months'] > 15) & (df_ft['tenure_in_months'] <= 30)]['customer_status'].mean()"
   ]
  },
  {
   "cell_type": "markdown",
   "metadata": {},
   "source": [
    "**Correlación negativa**"
   ]
  },
  {
   "cell_type": "code",
   "execution_count": 259,
   "metadata": {},
   "outputs": [
    {
     "data": {
      "text/plain": [
       "(19, 80)"
      ]
     },
     "execution_count": 259,
     "metadata": {},
     "output_type": "execute_result"
    }
   ],
   "source": [
    "df_ft['age'].min(), df_ft['age'].max()"
   ]
  },
  {
   "cell_type": "code",
   "execution_count": 260,
   "metadata": {},
   "outputs": [
    {
     "data": {
      "text/plain": [
       "0.7640117994100295"
      ]
     },
     "execution_count": 260,
     "metadata": {},
     "output_type": "execute_result"
    }
   ],
   "source": [
    "df_ft[df_ft['age'] <= 25]['customer_status'].mean()"
   ]
  },
  {
   "cell_type": "code",
   "execution_count": 261,
   "metadata": {},
   "outputs": [
    {
     "data": {
      "text/plain": [
       "0.7310565635005336"
      ]
     },
     "execution_count": 261,
     "metadata": {},
     "output_type": "execute_result"
    }
   ],
   "source": [
    "df_ft[(df_ft['age'] > 25) & (df_ft['age'] <= 35)]['customer_status'].mean()"
   ]
  },
  {
   "cell_type": "code",
   "execution_count": 262,
   "metadata": {},
   "outputs": [
    {
     "data": {
      "text/plain": [
       "0.7465263157894737"
      ]
     },
     "execution_count": 262,
     "metadata": {},
     "output_type": "execute_result"
    }
   ],
   "source": [
    "df_ft[(df_ft['age'] > 35) & (df_ft['age'] <= 60)]['customer_status'].mean()"
   ]
  },
  {
   "cell_type": "code",
   "execution_count": 263,
   "metadata": {},
   "outputs": [
    {
     "data": {
      "text/plain": [
       "0.6182669789227166"
      ]
     },
     "execution_count": 263,
     "metadata": {},
     "output_type": "execute_result"
    }
   ],
   "source": [
    "df_ft[df_ft['age'] > 60]['customer_status'].mean()"
   ]
  },
  {
   "cell_type": "markdown",
   "metadata": {},
   "source": [
    "**Lista de correlaciones 👇**"
   ]
  },
  {
   "cell_type": "code",
   "execution_count": 264,
   "metadata": {},
   "outputs": [
    {
     "data": {
      "text/plain": [
       "tenure_in_months                     0.435003\n",
       "number_of_referrals                  0.323245\n",
       "total_revenue                        0.279929\n",
       "total_long_distance_charges          0.267812\n",
       "total_charges                        0.251821\n",
       "number_of_dependents                 0.231056\n",
       "total_refunds                        0.050088\n",
       "total_extra_data_charges             0.002796\n",
       "avg_monthly_long_distance_charges   -0.009619\n",
       "avg_monthly_gb_download             -0.044315\n",
       "age                                 -0.107037\n",
       "monthly_charge                      -0.164967\n",
       "dtype: float64"
      ]
     },
     "execution_count": 264,
     "metadata": {},
     "output_type": "execute_result"
    }
   ],
   "source": [
    "df_ft[numeric_vars].corrwith(df_ft['customer_status']).sort_values(ascending=False)"
   ]
  },
  {
   "cell_type": "markdown",
   "metadata": {},
   "source": [
    "## 4. Preparación para entrenar el modelo de ML"
   ]
  },
  {
   "cell_type": "markdown",
   "metadata": {},
   "source": [
    "### 4.1 Formato One-hot enconding"
   ]
  },
  {
   "cell_type": "markdown",
   "metadata": {},
   "source": [
    "One-hot encoding genera por cada categoría dentro de una variable, su propia variable binaria. Es decir, en el registro que se de la categoría, se va a completar con 1, y cuando no se de se completa con 0.<br>\n",
    "Esto crea una matriz de ceros y unos, que es el formato con el que trabaja el modelo de ML"
   ]
  },
  {
   "cell_type": "code",
   "execution_count": 265,
   "metadata": {},
   "outputs": [],
   "source": [
    "from sklearn.feature_extraction import DictVectorizer"
   ]
  },
  {
   "cell_type": "code",
   "execution_count": 266,
   "metadata": {},
   "outputs": [],
   "source": [
    "dicc_train = df_train[categoric_vars + numeric_vars].to_dict(orient='records')"
   ]
  },
  {
   "cell_type": "code",
   "execution_count": 267,
   "metadata": {},
   "outputs": [],
   "source": [
    "dv = DictVectorizer(sparse=False)"
   ]
  },
  {
   "cell_type": "code",
   "execution_count": 268,
   "metadata": {},
   "outputs": [],
   "source": [
    "x_train = dv.fit_transform(dicc_train)"
   ]
  },
  {
   "cell_type": "code",
   "execution_count": 269,
   "metadata": {},
   "outputs": [
    {
     "data": {
      "text/plain": [
       "(3953, 56)"
      ]
     },
     "execution_count": 269,
     "metadata": {},
     "output_type": "execute_result"
    }
   ],
   "source": [
    "x_train.shape"
   ]
  },
  {
   "cell_type": "code",
   "execution_count": 270,
   "metadata": {},
   "outputs": [],
   "source": [
    "dicc_val = df_val[categoric_vars + numeric_vars].to_dict(orient='records')"
   ]
  },
  {
   "cell_type": "code",
   "execution_count": 271,
   "metadata": {},
   "outputs": [],
   "source": [
    "x_val = dv.fit_transform(dicc_val)"
   ]
  },
  {
   "cell_type": "code",
   "execution_count": 272,
   "metadata": {},
   "outputs": [
    {
     "data": {
      "text/plain": [
       "(1318, 56)"
      ]
     },
     "execution_count": 272,
     "metadata": {},
     "output_type": "execute_result"
    }
   ],
   "source": [
    "x_val.shape"
   ]
  },
  {
   "cell_type": "code",
   "execution_count": 282,
   "metadata": {
    "scrolled": true
   },
   "outputs": [
    {
     "data": {
      "text/plain": [
       "(1318,)"
      ]
     },
     "execution_count": 282,
     "metadata": {},
     "output_type": "execute_result"
    }
   ],
   "source": [
    "y_val.shape"
   ]
  },
  {
   "cell_type": "markdown",
   "metadata": {},
   "source": [
    "### 4.2 Entrenando el modelo de ML"
   ]
  },
  {
   "cell_type": "markdown",
   "metadata": {},
   "source": [
    "Vamos a usar un modelo de Regresión Logística para hacer clasificación binaria.<br>\n",
    "Los pasos son:<br> \n",
    "a. Entrenar un modelo<br>\n",
    "b. Aplicarlo al conjunto de datos de validación<br>\n",
    "c. Calcular la precisión"
   ]
  },
  {
   "cell_type": "code",
   "execution_count": 283,
   "metadata": {},
   "outputs": [],
   "source": [
    "from sklearn.linear_model import LogisticRegression"
   ]
  },
  {
   "cell_type": "code",
   "execution_count": 284,
   "metadata": {},
   "outputs": [
    {
     "data": {
      "text/plain": [
       "((3953, 56), (3953,))"
      ]
     },
     "execution_count": 284,
     "metadata": {},
     "output_type": "execute_result"
    }
   ],
   "source": [
    "x_train.shape, y_train.shape"
   ]
  },
  {
   "cell_type": "code",
   "execution_count": 274,
   "metadata": {},
   "outputs": [],
   "source": [
    "model = LogisticRegression(max_iter=3500)\n",
    "model.fit(x_train, y_train)"
   ]
  },
  {
   "cell_type": "code",
   "execution_count": 289,
   "metadata": {},
   "outputs": [],
   "source": [
    "y_pred = model.predict_proba(x_val)[:,1]"
   ]
  },
  {
   "cell_type": "code",
   "execution_count": 290,
   "metadata": {},
   "outputs": [
    {
     "data": {
      "text/plain": [
       "(1318,)"
      ]
     },
     "execution_count": 290,
     "metadata": {},
     "output_type": "execute_result"
    }
   ],
   "source": [
    "y_pred.shape"
   ]
  },
  {
   "cell_type": "code",
   "execution_count": 296,
   "metadata": {},
   "outputs": [],
   "source": [
    "ind_leal = (y_pred >= 0.5)"
   ]
  },
  {
   "cell_type": "code",
   "execution_count": 293,
   "metadata": {},
   "outputs": [
    {
     "data": {
      "text/plain": [
       "(1318,)"
      ]
     },
     "execution_count": 293,
     "metadata": {},
     "output_type": "execute_result"
    }
   ],
   "source": [
    "y_val.shape"
   ]
  },
  {
   "cell_type": "code",
   "execution_count": 295,
   "metadata": {},
   "outputs": [
    {
     "data": {
      "text/plain": [
       "(3953,)"
      ]
     },
     "execution_count": 295,
     "metadata": {},
     "output_type": "execute_result"
    }
   ],
   "source": [
    "ind_leal.shape"
   ]
  },
  {
   "cell_type": "code",
   "execution_count": 297,
   "metadata": {},
   "outputs": [
    {
     "data": {
      "text/plain": [
       "0.8596358118361154"
      ]
     },
     "execution_count": 297,
     "metadata": {},
     "output_type": "execute_result"
    }
   ],
   "source": [
    "(y_val == ind_leal).mean()"
   ]
  },
  {
   "cell_type": "markdown",
   "metadata": {},
   "source": [
    "### 4.2 Usando el modelo"
   ]
  },
  {
   "cell_type": "markdown",
   "metadata": {},
   "source": [
    "Vamos a aplicar el modelo entrenado en nuestro dataset de testeo"
   ]
  },
  {
   "cell_type": "code",
   "execution_count": 299,
   "metadata": {},
   "outputs": [],
   "source": [
    "dicc_ft = df_ft[categoric_vars + numeric_vars].to_dict(orient='records')"
   ]
  },
  {
   "cell_type": "code",
   "execution_count": 300,
   "metadata": {},
   "outputs": [],
   "source": [
    "dv = DictVectorizer(sparse=False)"
   ]
  },
  {
   "cell_type": "code",
   "execution_count": 301,
   "metadata": {},
   "outputs": [],
   "source": [
    "x_ft = dv.fit_transform(dicc_ft)"
   ]
  },
  {
   "cell_type": "code",
   "execution_count": 302,
   "metadata": {},
   "outputs": [],
   "source": [
    "y_ft = df_ft['customer_status']"
   ]
  },
  {
   "cell_type": "code",
   "execution_count": 305,
   "metadata": {},
   "outputs": [
    {
     "data": {
      "text/html": [
       "<style>#sk-container-id-5 {color: black;background-color: white;}#sk-container-id-5 pre{padding: 0;}#sk-container-id-5 div.sk-toggleable {background-color: white;}#sk-container-id-5 label.sk-toggleable__label {cursor: pointer;display: block;width: 100%;margin-bottom: 0;padding: 0.3em;box-sizing: border-box;text-align: center;}#sk-container-id-5 label.sk-toggleable__label-arrow:before {content: \"▸\";float: left;margin-right: 0.25em;color: #696969;}#sk-container-id-5 label.sk-toggleable__label-arrow:hover:before {color: black;}#sk-container-id-5 div.sk-estimator:hover label.sk-toggleable__label-arrow:before {color: black;}#sk-container-id-5 div.sk-toggleable__content {max-height: 0;max-width: 0;overflow: hidden;text-align: left;background-color: #f0f8ff;}#sk-container-id-5 div.sk-toggleable__content pre {margin: 0.2em;color: black;border-radius: 0.25em;background-color: #f0f8ff;}#sk-container-id-5 input.sk-toggleable__control:checked~div.sk-toggleable__content {max-height: 200px;max-width: 100%;overflow: auto;}#sk-container-id-5 input.sk-toggleable__control:checked~label.sk-toggleable__label-arrow:before {content: \"▾\";}#sk-container-id-5 div.sk-estimator input.sk-toggleable__control:checked~label.sk-toggleable__label {background-color: #d4ebff;}#sk-container-id-5 div.sk-label input.sk-toggleable__control:checked~label.sk-toggleable__label {background-color: #d4ebff;}#sk-container-id-5 input.sk-hidden--visually {border: 0;clip: rect(1px 1px 1px 1px);clip: rect(1px, 1px, 1px, 1px);height: 1px;margin: -1px;overflow: hidden;padding: 0;position: absolute;width: 1px;}#sk-container-id-5 div.sk-estimator {font-family: monospace;background-color: #f0f8ff;border: 1px dotted black;border-radius: 0.25em;box-sizing: border-box;margin-bottom: 0.5em;}#sk-container-id-5 div.sk-estimator:hover {background-color: #d4ebff;}#sk-container-id-5 div.sk-parallel-item::after {content: \"\";width: 100%;border-bottom: 1px solid gray;flex-grow: 1;}#sk-container-id-5 div.sk-label:hover label.sk-toggleable__label {background-color: #d4ebff;}#sk-container-id-5 div.sk-serial::before {content: \"\";position: absolute;border-left: 1px solid gray;box-sizing: border-box;top: 0;bottom: 0;left: 50%;z-index: 0;}#sk-container-id-5 div.sk-serial {display: flex;flex-direction: column;align-items: center;background-color: white;padding-right: 0.2em;padding-left: 0.2em;position: relative;}#sk-container-id-5 div.sk-item {position: relative;z-index: 1;}#sk-container-id-5 div.sk-parallel {display: flex;align-items: stretch;justify-content: center;background-color: white;position: relative;}#sk-container-id-5 div.sk-item::before, #sk-container-id-5 div.sk-parallel-item::before {content: \"\";position: absolute;border-left: 1px solid gray;box-sizing: border-box;top: 0;bottom: 0;left: 50%;z-index: -1;}#sk-container-id-5 div.sk-parallel-item {display: flex;flex-direction: column;z-index: 1;position: relative;background-color: white;}#sk-container-id-5 div.sk-parallel-item:first-child::after {align-self: flex-end;width: 50%;}#sk-container-id-5 div.sk-parallel-item:last-child::after {align-self: flex-start;width: 50%;}#sk-container-id-5 div.sk-parallel-item:only-child::after {width: 0;}#sk-container-id-5 div.sk-dashed-wrapped {border: 1px dashed gray;margin: 0 0.4em 0.5em 0.4em;box-sizing: border-box;padding-bottom: 0.4em;background-color: white;}#sk-container-id-5 div.sk-label label {font-family: monospace;font-weight: bold;display: inline-block;line-height: 1.2em;}#sk-container-id-5 div.sk-label-container {text-align: center;}#sk-container-id-5 div.sk-container {/* jupyter's `normalize.less` sets `[hidden] { display: none; }` but bootstrap.min.css set `[hidden] { display: none !important; }` so we also need the `!important` here to be able to override the default hidden behavior on the sphinx rendered scikit-learn.org. See: https://github.com/scikit-learn/scikit-learn/issues/21755 */display: inline-block !important;position: relative;}#sk-container-id-5 div.sk-text-repr-fallback {display: none;}</style><div id=\"sk-container-id-5\" class=\"sk-top-container\"><div class=\"sk-text-repr-fallback\"><pre>LogisticRegression(max_iter=4500)</pre><b>In a Jupyter environment, please rerun this cell to show the HTML representation or trust the notebook. <br />On GitHub, the HTML representation is unable to render, please try loading this page with nbviewer.org.</b></div><div class=\"sk-container\" hidden><div class=\"sk-item\"><div class=\"sk-estimator sk-toggleable\"><input class=\"sk-toggleable__control sk-hidden--visually\" id=\"sk-estimator-id-5\" type=\"checkbox\" checked><label for=\"sk-estimator-id-5\" class=\"sk-toggleable__label sk-toggleable__label-arrow\">LogisticRegression</label><div class=\"sk-toggleable__content\"><pre>LogisticRegression(max_iter=4500)</pre></div></div></div></div></div>"
      ],
      "text/plain": [
       "LogisticRegression(max_iter=4500)"
      ]
     },
     "execution_count": 305,
     "metadata": {},
     "output_type": "execute_result"
    }
   ],
   "source": [
    "model = LogisticRegression(max_iter=4500)\n",
    "model.fit(x_ft, y_ft)"
   ]
  },
  {
   "cell_type": "code",
   "execution_count": 307,
   "metadata": {},
   "outputs": [],
   "source": [
    "dicc_test = df_test[categoric_vars + numeric_vars].to_dict(orient = 'records')"
   ]
  },
  {
   "cell_type": "code",
   "execution_count": 310,
   "metadata": {},
   "outputs": [],
   "source": [
    "x_test = dv.transform(dicc_test)"
   ]
  },
  {
   "cell_type": "code",
   "execution_count": 349,
   "metadata": {},
   "outputs": [
    {
     "data": {
      "text/plain": [
       "(1318, 56)"
      ]
     },
     "execution_count": 349,
     "metadata": {},
     "output_type": "execute_result"
    }
   ],
   "source": [
    "x_test.shape"
   ]
  },
  {
   "cell_type": "code",
   "execution_count": 314,
   "metadata": {},
   "outputs": [
    {
     "data": {
      "text/plain": [
       "array([0.54335465, 0.806965  , 0.98831896, ..., 0.35724278, 0.9885413 ,\n",
       "       0.63139243])"
      ]
     },
     "execution_count": 314,
     "metadata": {},
     "output_type": "execute_result"
    }
   ],
   "source": [
    "model.predict_proba(x_test)[:,1]"
   ]
  },
  {
   "cell_type": "code",
   "execution_count": 315,
   "metadata": {},
   "outputs": [],
   "source": [
    "y_pred = model.predict_proba(x_test)[:,1]"
   ]
  },
  {
   "cell_type": "code",
   "execution_count": 316,
   "metadata": {},
   "outputs": [],
   "source": [
    "leal_index = (y_pred >= 0.5)"
   ]
  },
  {
   "cell_type": "code",
   "execution_count": 318,
   "metadata": {},
   "outputs": [
    {
     "data": {
      "text/plain": [
       "0.8429438543247344"
      ]
     },
     "execution_count": 318,
     "metadata": {},
     "output_type": "execute_result"
    }
   ],
   "source": [
    "(leal_index == y_test).mean()"
   ]
  },
  {
   "cell_type": "markdown",
   "metadata": {},
   "source": [
    "**Aplicamos el modelo sobre un solo cliente**"
   ]
  },
  {
   "cell_type": "code",
   "execution_count": 337,
   "metadata": {
    "scrolled": false
   },
   "outputs": [
    {
     "data": {
      "text/plain": [
       "{'gender': 'male',\n",
       " 'married': 'no',\n",
       " 'offer': 'offer_d',\n",
       " 'phone_service': 'yes',\n",
       " 'multiple_lines': 'no',\n",
       " 'internet_service': 'yes',\n",
       " 'internet_type': 'fiber_optic',\n",
       " 'online_security': 'no',\n",
       " 'online_backup': 'no',\n",
       " 'device_protection_plan': 'yes',\n",
       " 'premium_tech_support': 'no',\n",
       " 'streaming_tv': 'yes',\n",
       " 'streaming_movies': 'yes',\n",
       " 'streaming_music': 'yes',\n",
       " 'unlimited_data': 'yes',\n",
       " 'contract': 'month-to-month',\n",
       " 'paperless_billing': 'yes',\n",
       " 'payment_method': 'credit_card',\n",
       " 'age': 65,\n",
       " 'number_of_dependents': 0,\n",
       " 'number_of_referrals': 0,\n",
       " 'tenure_in_months': 19,\n",
       " 'avg_monthly_long_distance_charges': 32.77,\n",
       " 'avg_monthly_gb_download': 4.0,\n",
       " 'monthly_charge': 95.9,\n",
       " 'total_charges': 1777.9,\n",
       " 'total_refunds': 0.0,\n",
       " 'total_extra_data_charges': 0,\n",
       " 'total_long_distance_charges': 622.63,\n",
       " 'total_revenue': 2400.53}"
      ]
     },
     "execution_count": 337,
     "metadata": {},
     "output_type": "execute_result"
    }
   ],
   "source": [
    "dicc_test[56]"
   ]
  },
  {
   "cell_type": "code",
   "execution_count": 339,
   "metadata": {},
   "outputs": [],
   "source": [
    "arnaldo = dicc_test[56]"
   ]
  },
  {
   "cell_type": "code",
   "execution_count": 340,
   "metadata": {},
   "outputs": [],
   "source": [
    "arnaldo = dv.transform([arnaldo])"
   ]
  },
  {
   "cell_type": "code",
   "execution_count": 341,
   "metadata": {},
   "outputs": [
    {
     "data": {
      "text/plain": [
       "(1, 56)"
      ]
     },
     "execution_count": 341,
     "metadata": {},
     "output_type": "execute_result"
    }
   ],
   "source": [
    "arnaldo.shape"
   ]
  },
  {
   "cell_type": "code",
   "execution_count": 342,
   "metadata": {},
   "outputs": [
    {
     "data": {
      "text/plain": [
       "0.4817789471485103"
      ]
     },
     "execution_count": 342,
     "metadata": {},
     "output_type": "execute_result"
    }
   ],
   "source": [
    "model.predict_proba(arnaldo)[0][1]"
   ]
  },
  {
   "cell_type": "code",
   "execution_count": 355,
   "metadata": {},
   "outputs": [
    {
     "data": {
      "text/plain": [
       "0"
      ]
     },
     "execution_count": 355,
     "metadata": {},
     "output_type": "execute_result"
    }
   ],
   "source": [
    "model.predict(arnaldo)[0]"
   ]
  },
  {
   "cell_type": "code",
   "execution_count": 345,
   "metadata": {},
   "outputs": [
    {
     "data": {
      "text/plain": [
       "0"
      ]
     },
     "execution_count": 345,
     "metadata": {},
     "output_type": "execute_result"
    }
   ],
   "source": [
    "y_test[56]"
   ]
  },
  {
   "cell_type": "markdown",
   "metadata": {},
   "source": [
    "**Aplicamos el modelo sobre nuestros nuevos clientes**"
   ]
  },
  {
   "cell_type": "code",
   "execution_count": 360,
   "metadata": {},
   "outputs": [],
   "source": [
    "dicc_joined = df_joined[categoric_vars + numeric_vars].to_dict(orient='records')"
   ]
  },
  {
   "cell_type": "code",
   "execution_count": 361,
   "metadata": {},
   "outputs": [],
   "source": [
    "x_joined = dv.transform(dicc_joined)"
   ]
  },
  {
   "cell_type": "code",
   "execution_count": 362,
   "metadata": {},
   "outputs": [
    {
     "data": {
      "text/plain": [
       "(454, 56)"
      ]
     },
     "execution_count": 362,
     "metadata": {},
     "output_type": "execute_result"
    }
   ],
   "source": [
    "x_joined.shape"
   ]
  },
  {
   "cell_type": "code",
   "execution_count": 367,
   "metadata": {},
   "outputs": [],
   "source": [
    "y_joined = model.predict(x_joined)\n"
   ]
  },
  {
   "cell_type": "code",
   "execution_count": 369,
   "metadata": {},
   "outputs": [],
   "source": [
    "df_joined['leal'] = y_joined"
   ]
  },
  {
   "cell_type": "code",
   "execution_count": 370,
   "metadata": {},
   "outputs": [
    {
     "data": {
      "text/html": [
       "<div>\n",
       "<style scoped>\n",
       "    .dataframe tbody tr th:only-of-type {\n",
       "        vertical-align: middle;\n",
       "    }\n",
       "\n",
       "    .dataframe tbody tr th {\n",
       "        vertical-align: top;\n",
       "    }\n",
       "\n",
       "    .dataframe thead th {\n",
       "        text-align: right;\n",
       "    }\n",
       "</style>\n",
       "<table border=\"1\" class=\"dataframe\">\n",
       "  <thead>\n",
       "    <tr style=\"text-align: right;\">\n",
       "      <th></th>\n",
       "      <th>customer_id</th>\n",
       "      <th>gender</th>\n",
       "      <th>age</th>\n",
       "      <th>married</th>\n",
       "      <th>number_of_dependents</th>\n",
       "      <th>city</th>\n",
       "      <th>zip_code</th>\n",
       "      <th>latitude</th>\n",
       "      <th>longitude</th>\n",
       "      <th>number_of_referrals</th>\n",
       "      <th>...</th>\n",
       "      <th>monthly_charge</th>\n",
       "      <th>total_charges</th>\n",
       "      <th>total_refunds</th>\n",
       "      <th>total_extra_data_charges</th>\n",
       "      <th>total_long_distance_charges</th>\n",
       "      <th>total_revenue</th>\n",
       "      <th>customer_status</th>\n",
       "      <th>churn_category</th>\n",
       "      <th>churn_reason</th>\n",
       "      <th>leal</th>\n",
       "    </tr>\n",
       "  </thead>\n",
       "  <tbody>\n",
       "    <tr>\n",
       "      <th>17</th>\n",
       "      <td>0021-ikxgc</td>\n",
       "      <td>female</td>\n",
       "      <td>72</td>\n",
       "      <td>no</td>\n",
       "      <td>0</td>\n",
       "      <td>san_marcos</td>\n",
       "      <td>92078</td>\n",
       "      <td>33.119028</td>\n",
       "      <td>-117.166036</td>\n",
       "      <td>0</td>\n",
       "      <td>...</td>\n",
       "      <td>72.10</td>\n",
       "      <td>72.10</td>\n",
       "      <td>0.0</td>\n",
       "      <td>0</td>\n",
       "      <td>7.77</td>\n",
       "      <td>79.87</td>\n",
       "      <td>joined</td>\n",
       "      <td>no_churn</td>\n",
       "      <td>no_churn</td>\n",
       "      <td>0</td>\n",
       "    </tr>\n",
       "    <tr>\n",
       "      <th>23</th>\n",
       "      <td>0030-fnxpp</td>\n",
       "      <td>female</td>\n",
       "      <td>22</td>\n",
       "      <td>no</td>\n",
       "      <td>0</td>\n",
       "      <td>keeler</td>\n",
       "      <td>93530</td>\n",
       "      <td>36.560498</td>\n",
       "      <td>-117.962461</td>\n",
       "      <td>0</td>\n",
       "      <td>...</td>\n",
       "      <td>19.85</td>\n",
       "      <td>57.20</td>\n",
       "      <td>0.0</td>\n",
       "      <td>0</td>\n",
       "      <td>9.36</td>\n",
       "      <td>66.56</td>\n",
       "      <td>joined</td>\n",
       "      <td>no_churn</td>\n",
       "      <td>no_churn</td>\n",
       "      <td>1</td>\n",
       "    </tr>\n",
       "    <tr>\n",
       "      <th>48</th>\n",
       "      <td>0082-ldzue</td>\n",
       "      <td>male</td>\n",
       "      <td>54</td>\n",
       "      <td>no</td>\n",
       "      <td>0</td>\n",
       "      <td>calistoga</td>\n",
       "      <td>94515</td>\n",
       "      <td>38.629618</td>\n",
       "      <td>-122.593216</td>\n",
       "      <td>0</td>\n",
       "      <td>...</td>\n",
       "      <td>44.30</td>\n",
       "      <td>44.30</td>\n",
       "      <td>0.0</td>\n",
       "      <td>0</td>\n",
       "      <td>42.95</td>\n",
       "      <td>87.25</td>\n",
       "      <td>joined</td>\n",
       "      <td>no_churn</td>\n",
       "      <td>no_churn</td>\n",
       "      <td>0</td>\n",
       "    </tr>\n",
       "    <tr>\n",
       "      <th>88</th>\n",
       "      <td>0139-ivfjg</td>\n",
       "      <td>female</td>\n",
       "      <td>19</td>\n",
       "      <td>yes</td>\n",
       "      <td>0</td>\n",
       "      <td>temecula</td>\n",
       "      <td>92592</td>\n",
       "      <td>33.507255</td>\n",
       "      <td>-117.029473</td>\n",
       "      <td>10</td>\n",
       "      <td>...</td>\n",
       "      <td>90.35</td>\n",
       "      <td>190.50</td>\n",
       "      <td>0.0</td>\n",
       "      <td>0</td>\n",
       "      <td>9.30</td>\n",
       "      <td>199.80</td>\n",
       "      <td>joined</td>\n",
       "      <td>no_churn</td>\n",
       "      <td>no_churn</td>\n",
       "      <td>1</td>\n",
       "    </tr>\n",
       "    <tr>\n",
       "      <th>100</th>\n",
       "      <td>0178-ciikr</td>\n",
       "      <td>female</td>\n",
       "      <td>60</td>\n",
       "      <td>no</td>\n",
       "      <td>0</td>\n",
       "      <td>crows_landing</td>\n",
       "      <td>95313</td>\n",
       "      <td>37.435664</td>\n",
       "      <td>-121.049056</td>\n",
       "      <td>0</td>\n",
       "      <td>...</td>\n",
       "      <td>19.95</td>\n",
       "      <td>58.00</td>\n",
       "      <td>0.0</td>\n",
       "      <td>0</td>\n",
       "      <td>8.07</td>\n",
       "      <td>66.07</td>\n",
       "      <td>joined</td>\n",
       "      <td>no_churn</td>\n",
       "      <td>no_churn</td>\n",
       "      <td>1</td>\n",
       "    </tr>\n",
       "    <tr>\n",
       "      <th>...</th>\n",
       "      <td>...</td>\n",
       "      <td>...</td>\n",
       "      <td>...</td>\n",
       "      <td>...</td>\n",
       "      <td>...</td>\n",
       "      <td>...</td>\n",
       "      <td>...</td>\n",
       "      <td>...</td>\n",
       "      <td>...</td>\n",
       "      <td>...</td>\n",
       "      <td>...</td>\n",
       "      <td>...</td>\n",
       "      <td>...</td>\n",
       "      <td>...</td>\n",
       "      <td>...</td>\n",
       "      <td>...</td>\n",
       "      <td>...</td>\n",
       "      <td>...</td>\n",
       "      <td>...</td>\n",
       "      <td>...</td>\n",
       "      <td>...</td>\n",
       "    </tr>\n",
       "    <tr>\n",
       "      <th>6938</th>\n",
       "      <td>9840-efjqb</td>\n",
       "      <td>female</td>\n",
       "      <td>43</td>\n",
       "      <td>no</td>\n",
       "      <td>0</td>\n",
       "      <td>sylmar</td>\n",
       "      <td>91342</td>\n",
       "      <td>34.321621</td>\n",
       "      <td>-118.399841</td>\n",
       "      <td>0</td>\n",
       "      <td>...</td>\n",
       "      <td>74.35</td>\n",
       "      <td>74.35</td>\n",
       "      <td>0.0</td>\n",
       "      <td>0</td>\n",
       "      <td>24.41</td>\n",
       "      <td>98.76</td>\n",
       "      <td>joined</td>\n",
       "      <td>no_churn</td>\n",
       "      <td>no_churn</td>\n",
       "      <td>0</td>\n",
       "    </tr>\n",
       "    <tr>\n",
       "      <th>6973</th>\n",
       "      <td>9895-vfoxh</td>\n",
       "      <td>female</td>\n",
       "      <td>19</td>\n",
       "      <td>no</td>\n",
       "      <td>0</td>\n",
       "      <td>scotia</td>\n",
       "      <td>95565</td>\n",
       "      <td>40.440636</td>\n",
       "      <td>-124.098739</td>\n",
       "      <td>0</td>\n",
       "      <td>...</td>\n",
       "      <td>24.40</td>\n",
       "      <td>24.40</td>\n",
       "      <td>0.0</td>\n",
       "      <td>10</td>\n",
       "      <td>0.00</td>\n",
       "      <td>34.40</td>\n",
       "      <td>joined</td>\n",
       "      <td>no_churn</td>\n",
       "      <td>no_churn</td>\n",
       "      <td>0</td>\n",
       "    </tr>\n",
       "    <tr>\n",
       "      <th>7021</th>\n",
       "      <td>9962-bfpdu</td>\n",
       "      <td>female</td>\n",
       "      <td>61</td>\n",
       "      <td>yes</td>\n",
       "      <td>3</td>\n",
       "      <td>kenwood</td>\n",
       "      <td>95452</td>\n",
       "      <td>38.419525</td>\n",
       "      <td>-122.521585</td>\n",
       "      <td>3</td>\n",
       "      <td>...</td>\n",
       "      <td>20.05</td>\n",
       "      <td>20.05</td>\n",
       "      <td>0.0</td>\n",
       "      <td>0</td>\n",
       "      <td>16.02</td>\n",
       "      <td>36.07</td>\n",
       "      <td>joined</td>\n",
       "      <td>no_churn</td>\n",
       "      <td>no_churn</td>\n",
       "      <td>1</td>\n",
       "    </tr>\n",
       "    <tr>\n",
       "      <th>7033</th>\n",
       "      <td>9975-skrnr</td>\n",
       "      <td>male</td>\n",
       "      <td>24</td>\n",
       "      <td>no</td>\n",
       "      <td>0</td>\n",
       "      <td>sierraville</td>\n",
       "      <td>96126</td>\n",
       "      <td>39.559709</td>\n",
       "      <td>-120.345639</td>\n",
       "      <td>0</td>\n",
       "      <td>...</td>\n",
       "      <td>18.90</td>\n",
       "      <td>18.90</td>\n",
       "      <td>0.0</td>\n",
       "      <td>0</td>\n",
       "      <td>49.51</td>\n",
       "      <td>68.41</td>\n",
       "      <td>joined</td>\n",
       "      <td>no_churn</td>\n",
       "      <td>no_churn</td>\n",
       "      <td>1</td>\n",
       "    </tr>\n",
       "    <tr>\n",
       "      <th>7040</th>\n",
       "      <td>9992-ujoel</td>\n",
       "      <td>male</td>\n",
       "      <td>22</td>\n",
       "      <td>no</td>\n",
       "      <td>0</td>\n",
       "      <td>elk</td>\n",
       "      <td>95432</td>\n",
       "      <td>39.108252</td>\n",
       "      <td>-123.645121</td>\n",
       "      <td>0</td>\n",
       "      <td>...</td>\n",
       "      <td>50.30</td>\n",
       "      <td>92.75</td>\n",
       "      <td>0.0</td>\n",
       "      <td>0</td>\n",
       "      <td>37.24</td>\n",
       "      <td>129.99</td>\n",
       "      <td>joined</td>\n",
       "      <td>no_churn</td>\n",
       "      <td>no_churn</td>\n",
       "      <td>0</td>\n",
       "    </tr>\n",
       "  </tbody>\n",
       "</table>\n",
       "<p>454 rows × 39 columns</p>\n",
       "</div>"
      ],
      "text/plain": [
       "     customer_id  gender  age married  number_of_dependents           city  \\\n",
       "17    0021-ikxgc  female   72      no                     0     san_marcos   \n",
       "23    0030-fnxpp  female   22      no                     0         keeler   \n",
       "48    0082-ldzue    male   54      no                     0      calistoga   \n",
       "88    0139-ivfjg  female   19     yes                     0       temecula   \n",
       "100   0178-ciikr  female   60      no                     0  crows_landing   \n",
       "...          ...     ...  ...     ...                   ...            ...   \n",
       "6938  9840-efjqb  female   43      no                     0         sylmar   \n",
       "6973  9895-vfoxh  female   19      no                     0         scotia   \n",
       "7021  9962-bfpdu  female   61     yes                     3        kenwood   \n",
       "7033  9975-skrnr    male   24      no                     0    sierraville   \n",
       "7040  9992-ujoel    male   22      no                     0            elk   \n",
       "\n",
       "      zip_code   latitude   longitude  number_of_referrals  ...  \\\n",
       "17       92078  33.119028 -117.166036                    0  ...   \n",
       "23       93530  36.560498 -117.962461                    0  ...   \n",
       "48       94515  38.629618 -122.593216                    0  ...   \n",
       "88       92592  33.507255 -117.029473                   10  ...   \n",
       "100      95313  37.435664 -121.049056                    0  ...   \n",
       "...        ...        ...         ...                  ...  ...   \n",
       "6938     91342  34.321621 -118.399841                    0  ...   \n",
       "6973     95565  40.440636 -124.098739                    0  ...   \n",
       "7021     95452  38.419525 -122.521585                    3  ...   \n",
       "7033     96126  39.559709 -120.345639                    0  ...   \n",
       "7040     95432  39.108252 -123.645121                    0  ...   \n",
       "\n",
       "      monthly_charge total_charges total_refunds  total_extra_data_charges  \\\n",
       "17             72.10         72.10           0.0                         0   \n",
       "23             19.85         57.20           0.0                         0   \n",
       "48             44.30         44.30           0.0                         0   \n",
       "88             90.35        190.50           0.0                         0   \n",
       "100            19.95         58.00           0.0                         0   \n",
       "...              ...           ...           ...                       ...   \n",
       "6938           74.35         74.35           0.0                         0   \n",
       "6973           24.40         24.40           0.0                        10   \n",
       "7021           20.05         20.05           0.0                         0   \n",
       "7033           18.90         18.90           0.0                         0   \n",
       "7040           50.30         92.75           0.0                         0   \n",
       "\n",
       "     total_long_distance_charges total_revenue customer_status  \\\n",
       "17                          7.77         79.87          joined   \n",
       "23                          9.36         66.56          joined   \n",
       "48                         42.95         87.25          joined   \n",
       "88                          9.30        199.80          joined   \n",
       "100                         8.07         66.07          joined   \n",
       "...                          ...           ...             ...   \n",
       "6938                       24.41         98.76          joined   \n",
       "6973                        0.00         34.40          joined   \n",
       "7021                       16.02         36.07          joined   \n",
       "7033                       49.51         68.41          joined   \n",
       "7040                       37.24        129.99          joined   \n",
       "\n",
       "      churn_category churn_reason leal  \n",
       "17          no_churn     no_churn    0  \n",
       "23          no_churn     no_churn    1  \n",
       "48          no_churn     no_churn    0  \n",
       "88          no_churn     no_churn    1  \n",
       "100         no_churn     no_churn    1  \n",
       "...              ...          ...  ...  \n",
       "6938        no_churn     no_churn    0  \n",
       "6973        no_churn     no_churn    0  \n",
       "7021        no_churn     no_churn    1  \n",
       "7033        no_churn     no_churn    1  \n",
       "7040        no_churn     no_churn    0  \n",
       "\n",
       "[454 rows x 39 columns]"
      ]
     },
     "execution_count": 370,
     "metadata": {},
     "output_type": "execute_result"
    }
   ],
   "source": [
    "df_joined"
   ]
  }
 ],
 "metadata": {
  "kernelspec": {
   "display_name": "Python 3 (ipykernel)",
   "language": "python",
   "name": "python3"
  },
  "language_info": {
   "codemirror_mode": {
    "name": "ipython",
    "version": 3
   },
   "file_extension": ".py",
   "mimetype": "text/x-python",
   "name": "python",
   "nbconvert_exporter": "python",
   "pygments_lexer": "ipython3",
   "version": "3.10.5"
  },
  "vscode": {
   "interpreter": {
    "hash": "ad2b602d900782d1669cfe4adc170349fca2d944c0dfaa7982a8f0f32d4ec4d5"
   }
  }
 },
 "nbformat": 4,
 "nbformat_minor": 2
}
