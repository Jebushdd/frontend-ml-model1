{
 "cells": [
  {
   "cell_type": "code",
   "execution_count": 1,
   "metadata": {},
   "outputs": [],
   "source": [
    "import pandas as pd\n",
    "import numpy as np\n",
    "\n",
    "from sklearn.model_selection import train_test_split\n",
    "\n",
    "from sklearn.feature_extraction import DictVectorizer\n",
    "from sklearn.linear_model import LogisticRegression"
   ]
  },
  {
   "cell_type": "code",
   "execution_count": 21,
   "metadata": {},
   "outputs": [],
   "source": [
    "df_cust = pd.read_csv('../telecom_customer_churn.csv', encoding='utf-8')\n",
    "df_cust.columns = df_cust.columns.str.lower().str.replace(' ', '_')\n",
    "categorical_columns = list(df_cust.dtypes[df_cust.dtypes=='object'].index)\n",
    "\n",
    "for c in categorical_columns:\n",
    "    df_cust[c] = df_cust[c].str.lower().str.replace(' ', '_')"
   ]
  },
  {
   "cell_type": "code",
   "execution_count": 22,
   "metadata": {},
   "outputs": [],
   "source": [
    "null2no = ['multiple_lines', 'internet_type', 'online_security', 'online_backup', 'device_protection_plan',\n",
    "           'premium_tech_support', 'streaming_tv', 'streaming_movies', 'streaming_music', 'unlimited_data']\n",
    "df_cust[null2no] = df_cust[null2no].fillna(value='no')\n",
    "df_cust['avg_monthly_gb_download'].fillna(value=0, inplace=True)\n",
    "df_cust['avg_monthly_long_distance_charges'].fillna(value=0, inplace=True)\n",
    "df_cust[['churn_category','churn_reason']] = df_cust[['churn_category','churn_reason']].fillna(value='no_churn')"
   ]
  },
  {
   "cell_type": "code",
   "execution_count": 24,
   "metadata": {},
   "outputs": [],
   "source": [
    "df = df_cust[df_cust['customer_status'] != 'joined'].copy()\n",
    "df['customer_status'] = (df['customer_status'] == 'stayed').astype(int)"
   ]
  },
  {
   "cell_type": "code",
   "execution_count": 38,
   "metadata": {},
   "outputs": [],
   "source": [
    "df_train, df_test = train_test_split(df, test_size=0.2, random_state=1)\n",
    "\n",
    "numeric_vars = ['age', 'number_of_dependents', 'number_of_referrals', 'tenure_in_months',\n",
    "                'avg_monthly_long_distance_charges', 'avg_monthly_gb_download', 'monthly_charge',\n",
    "                'total_charges', 'total_refunds', 'total_extra_data_charges', 'total_long_distance_charges',\n",
    "                'total_revenue']\n",
    "categoric_vars = ['gender', 'married', 'offer', 'phone_service', 'multiple_lines', 'internet_service', 'internet_type',\n",
    "                'online_security', 'online_backup', 'device_protection_plan', 'premium_tech_support', 'streaming_tv', 'streaming_movies',\n",
    "                'streaming_music', 'unlimited_data', 'contract', 'paperless_billing', 'payment_method']\n",
    "\n",
    "def train_model(df_train, y_train):\n",
    "    dicc_train = df_train[categoric_vars + numeric_vars].to_dict(orient='records')\n",
    "    dv = DictVectorizer(sparse=False)\n",
    "    x_train = dv.fit_transform(dicc_train)\n",
    "    model = LogisticRegression(max_iter=5000)\n",
    "    model.fit(x_train, y_train)\n",
    "    return dv, model\n",
    "\n",
    "def predict(df, dv, model):\n",
    "    dicts = df[categoric_vars + numeric_vars].to_dict(orient='records')\n",
    "    X = dv.transform(dicts)\n",
    "    y_pred = model.predict_proba(X)[:, 1]\n",
    "    return y_pred\n",
    "\n",
    "dv, model = train_model(df, df['customer_status'])"
   ]
  },
  {
   "cell_type": "code",
   "execution_count": 32,
   "metadata": {},
   "outputs": [],
   "source": [
    "import pickle"
   ]
  },
  {
   "cell_type": "code",
   "execution_count": 43,
   "metadata": {},
   "outputs": [],
   "source": [
    "archivo_exportado = 'modelo.bin'"
   ]
  },
  {
   "cell_type": "code",
   "execution_count": 44,
   "metadata": {},
   "outputs": [],
   "source": [
    "with open(archivo_exportado, 'wb') as exportar:\n",
    "    pickle.dump((dv,model), exportar)"
   ]
  },
  {
   "cell_type": "code",
   "execution_count": 46,
   "metadata": {},
   "outputs": [
    {
     "name": "stdout",
     "output_type": "stream",
     "text": [
      "bye\n"
     ]
    }
   ],
   "source": [
    "Holis = input(str)\n",
    "print(Holis)"
   ]
  }
 ],
 "metadata": {
  "kernelspec": {
   "display_name": "Python 3.10.5 64-bit",
   "language": "python",
   "name": "python3"
  },
  "language_info": {
   "codemirror_mode": {
    "name": "ipython",
    "version": 3
   },
   "file_extension": ".py",
   "mimetype": "text/x-python",
   "name": "python",
   "nbconvert_exporter": "python",
   "pygments_lexer": "ipython3",
   "version": "3.10.5"
  },
  "orig_nbformat": 4,
  "vscode": {
   "interpreter": {
    "hash": "ad2b602d900782d1669cfe4adc170349fca2d944c0dfaa7982a8f0f32d4ec4d5"
   }
  }
 },
 "nbformat": 4,
 "nbformat_minor": 2
}
